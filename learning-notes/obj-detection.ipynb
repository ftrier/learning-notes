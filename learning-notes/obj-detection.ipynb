{
 "cells": [
  {
   "cell_type": "markdown",
   "metadata": {},
   "source": [
    "# Object Detection\n",
    "\n",
    "**IoU** (Intersection over Union) is calculated as the area of overlap between two bounding boxes divided by the area of their union. \n",
    "\n",
    "$$ IoU = \\frac{b_1 \\cap b_2}{b_1 \\cup b_2}, 0 \\le IoU \\le 1$$\n",
    "\n",
    "While this is a good metric to evaluate object detection algorithms, it cannot be used as a loss function, because it is not differentiable when the boxes do not overlap.\n",
    "\n",
    "To overcome this, the **GIoU** (Generalized-IoU) has been introduced\n",
    "\n",
    "$$ GIoU = IoU - \\frac{C - b_1 \\cup b_2}{C} $$\n",
    "\n",
    "It uses additionally the area of the smallest enclosing box ($C$) that contains both boxes, thus considering the relative positions of the boxes and solving the problem that non-overlapping bounding boxes have an $IoU=0$\n",
    "If one box is completely inside the other, GIoU will degrade to IoU and experiments have shown that convergence can become difficult.\n",
    "\n",
    "Next, **DIoU** (Distance-IOU)\n",
    "\n",
    "$$ DIoU = IoU - \\frac{\\rho^2}{c^2} $$\n",
    "\n",
    "**DIoU** considers the distance of the two bounding boxes ($\\rho$) with respect to the enclosing box diagonal length ($c$) helping in convergence.\n",
    "\n",
    "Finally, this has been extended to include the aspect ratio of the different bounding boxes, resulting in **CIoU** (Complete-IoU).\n",
    "\n",
    "$$ CIoU = IoU - \\frac{\\rho^2}{c^2}-\\alpha v $$\n",
    "\n",
    "$\\alpha v$ encapsulate the different aspect ratio of the bounding boxes."
   ]
  },
  {
   "cell_type": "code",
   "execution_count": null,
   "metadata": {},
   "outputs": [],
   "source": [
    "import matplotlib.pyplot as plt\n",
    "import matplotlib.animation\n",
    "import matplotlib.patches as patches\n",
    "import numpy as np\n",
    "import jax.numpy as jnp\n",
    "import jax\n",
    "plt.rcParams[\"animation.html\"] = \"jshtml\""
   ]
  },
  {
   "cell_type": "markdown",
   "metadata": {},
   "source": [
    "## Intersection over Union"
   ]
  },
  {
   "cell_type": "code",
   "execution_count": null,
   "metadata": {},
   "outputs": [],
   "source": [
    "def intersection(b1, b2):\n",
    "    x1, y1, w1, h1 = b1\n",
    "    x2, y2, w2, h2 = b2\n",
    "    xA = max(x1, x2)\n",
    "    yA = max(y1, y2)\n",
    "    xB = min(x1 + w1, x2 + w2)\n",
    "    yB = min(y1 + h1, y2 + h2)\n",
    "    return max(0, xB - xA) * max(0, yB - yA)\n",
    "\n",
    "\n",
    "def union(b1, b2):\n",
    "    x1, y1, w1, h1 = b1\n",
    "    x2, y2, w2, h2 = b2\n",
    "    return w1 * h1 + w2 * h2 - intersection(b1, b2)\n",
    "\n",
    "\n",
    "def iou(b1, b2):\n",
    "    x1, y1, w1, h1 = b1\n",
    "    x2, y2, w2, h2 = b2\n",
    "    return intersection(b1, b2) / union(b1, b2)"
   ]
  },
  {
   "cell_type": "markdown",
   "metadata": {},
   "source": [
    "## Generalized Intersection over Union"
   ]
  },
  {
   "cell_type": "code",
   "execution_count": null,
   "metadata": {},
   "outputs": [],
   "source": [
    "def enclosement(b1, b2):\n",
    "    x1, y1, w1, h1 = b1\n",
    "    x2, y2, w2, h2 = b2\n",
    "    xA = min(x1, x2)\n",
    "    yA = min(y1, y2)\n",
    "    xB = max(x1 + w1, x2 + w2)\n",
    "    yB = max(y1 + h1, y2 + h2)\n",
    "    return (xB - xA) * (yB - yA)\n",
    "\n",
    "\n",
    "def giou(b1, b2):\n",
    "    R = (enclosement(b1, b2) - union(b1, b2)) / enclosement(b1, b2)\n",
    "    return iou(b1, b2) - R"
   ]
  },
  {
   "cell_type": "markdown",
   "metadata": {},
   "source": [
    "## Distance Intersection over Union"
   ]
  },
  {
   "cell_type": "code",
   "execution_count": null,
   "metadata": {},
   "outputs": [],
   "source": [
    "def distance(b1, b2):\n",
    "    x1, y1, w1, h1 = b1\n",
    "    x2, y2, w2, h2 = b2\n",
    "    center_b1 = (x1 + w1 / 2, y1 + h1 / 2)\n",
    "    center_b2 = (x2 + w2 / 2, y2 + h2 / 2)\n",
    "    x1, y1 = center_b1\n",
    "    x2, y2 = center_b2\n",
    "    return jnp.sqrt(jnp.square(x1 - x2) + jnp.square(y1 - y2))\n",
    "\n",
    "\n",
    "def enclosing_box_diagonal(b1, b2):\n",
    "    x1, y1, w1, h1 = b1\n",
    "    x2, y2, w2, h2 = b2\n",
    "\n",
    "    xA = min(x1, x2)\n",
    "    yA = min(y1, y2)\n",
    "    xB = max(x1 + w1, x2 + w2)\n",
    "    yB = max(y1 + h1, y2 + h2)\n",
    "    return jnp.sqrt(jnp.square(xB - xA) + jnp.square(yB - yA))\n",
    "\n",
    "\n",
    "def diou(b1, b2):\n",
    "    R = jnp.square(distance(b1, b2))/jnp.square(enclosing_box_diagonal(b1, b2))\n",
    "    return iou(b1, b2) - R"
   ]
  },
  {
   "cell_type": "markdown",
   "metadata": {},
   "source": [
    "## Complete Intersection over Union"
   ]
  },
  {
   "cell_type": "code",
   "execution_count": null,
   "metadata": {},
   "outputs": [],
   "source": [
    "def ciou(b1, b2):\n",
    "    x1, y1, w1, h1 = b1\n",
    "    x2, y2, w2, h2 = b2\n",
    "    v = 4 * jnp.square(jnp.arctan(w1 / h1) -\n",
    "                       jnp.arctan(w2 / h2)) / jnp.square(jnp.pi)\n",
    "    alpha = v / (1 - iou(b1, b2) + v)\n",
    "    R = v * alpha\n",
    "    return diou(b1, b2) - R"
   ]
  },
  {
   "cell_type": "markdown",
   "metadata": {},
   "source": [
    "## Evaluation"
   ]
  },
  {
   "cell_type": "code",
   "execution_count": null,
   "metadata": {},
   "outputs": [],
   "source": [
    "class MetricFn:\n",
    "    def __init__(self, fn, name):\n",
    "        self.fn = fn\n",
    "        self.name = name\n",
    "\n",
    "    def __call__(self, box, target_box):\n",
    "        return self.fn(box, target_box)\n",
    "\n",
    "\n",
    "class Sample:\n",
    "    def __init__(self, box, target_box, metric_fn, axis):\n",
    "        self.box = box\n",
    "        self.target_box = target_box\n",
    "        self.metric_fn = metric_fn\n",
    "        self.boxes = [box]\n",
    "\n",
    "        self.ax = axis\n",
    "        self.ax.set_title(metric_fn.name)\n",
    "        self.ax.set_xlim(0, 10)\n",
    "        self.ax.set_ylim(0, 10)\n",
    "        self.patch = patches.Rectangle(\n",
    "            (box[0], box[1]), box[2], box[3], linewidth=1, edgecolor='r', facecolor='none')\n",
    "        self.target_patch = patches.Rectangle(\n",
    "            (target_box[0], target_box[1]), target_box[2], target_box[3], linewidth=1, edgecolor='g', facecolor='none')\n",
    "        self.ax.add_patch(self.patch)\n",
    "        self.ax.add_patch(self.target_patch)\n",
    "\n",
    "    def animate(self, t):\n",
    "        if t < len(self.boxes):\n",
    "            b = self.boxes[t]\n",
    "            self.patch.set_width(b[2])\n",
    "            self.patch.set_height(b[3])\n",
    "            self.patch.set_xy((b[0], b[1]))\n",
    "        return self.patch\n",
    "\n",
    "    def evaluate(self):\n",
    "        while self.metric_fn(self.box, self.target_box) < 0.9:\n",
    "            gradient = jax.grad(\n",
    "                lambda b: 1-self.metric_fn(b, self.target_box))(self.box)\n",
    "            self.box -= 0.3 * gradient\n",
    "            self.boxes.append(self.box)\n",
    "            if jnp.isnan(jnp.sum(gradient)):\n",
    "                print('grad is nan')\n",
    "            if jnp.isnan(jnp.sum(gradient)) or jnp.sum(jnp.abs(gradient)) < 0.001:\n",
    "                break\n",
    "        return self.boxes\n",
    "\n",
    "\n",
    "class Evaluator:\n",
    "    def __init__(self, initial_boxes, target_box, metric_fns):\n",
    "        self.fig, self.ax = plt.subplots(\n",
    "            len(metric_fns), len(initial_boxes), figsize=(20, 20))\n",
    "        self.samples = []\n",
    "\n",
    "        if len(metric_fns) == 1 and len(initial_boxes) == 1:\n",
    "            self.ax = np.array([[self.ax]])\n",
    "        elif len(metric_fns) == 1:\n",
    "            self.ax = self.ax.reshape(1, -1)\n",
    "        elif len(initial_boxes) == 1:\n",
    "            self.ax = self.ax.reshape(-1, 1)\n",
    "\n",
    "        for i, metric_fn in enumerate(metric_fns):\n",
    "            for j, initial_box in enumerate(initial_boxes):\n",
    "                self.samples.append(\n",
    "                    Sample(initial_box, target_box, metric_fn, self.ax[i, j]))\n",
    "\n",
    "    def animate(self, t):\n",
    "        return [sample.animate(t) for sample in self.samples]\n",
    "\n",
    "    def evaluate(self):\n",
    "        for sample in self.samples:\n",
    "            sample.evaluate()\n",
    "        maximum = max([len(sample.boxes) for sample in self.samples])\n",
    "        return matplotlib.animation.FuncAnimation(self.fig, func=self.animate, frames=maximum, blit=True)"
   ]
  },
  {
   "cell_type": "code",
   "execution_count": null,
   "metadata": {},
   "outputs": [],
   "source": [
    "metric_fns = [\n",
    "    MetricFn(iou, 'IoU'),\n",
    "    MetricFn(giou, 'GIoU'),\n",
    "    MetricFn(diou, 'DIoU'),\n",
    "    MetricFn(ciou, 'CIoU'),\n",
    "]\n",
    "\n",
    "bb = [\n",
    "    jnp.array([4, 6, 1, 1], dtype=jnp.float32),\n",
    "    jnp.array([1, 2, 5, 5], dtype=jnp.float32),\n",
    "    jnp.array([2, 1, 3, 1], dtype=jnp.float32)]\n",
    "\n",
    "evaluator = Evaluator(bb, jnp.array([2, 1, 5, 2], dtype=jnp.float32), metric_fns)\n",
    "evaluator.evaluate()"
   ]
  },
  {
   "cell_type": "markdown",
   "metadata": {},
   "source": [
    "## Sources\n",
    "* [Distance-IoU Loss: Faster and Better Learning for Bounding Box Regression](https://arxiv.org/pdf/1911.08287)"
   ]
  }
 ],
 "metadata": {
  "kernelspec": {
   "display_name": "torch",
   "language": "python",
   "name": "python3"
  },
  "language_info": {
   "codemirror_mode": {
    "name": "ipython",
    "version": 3
   },
   "file_extension": ".py",
   "mimetype": "text/x-python",
   "name": "python",
   "nbconvert_exporter": "python",
   "pygments_lexer": "ipython3",
   "version": "3.10.14"
  }
 },
 "nbformat": 4,
 "nbformat_minor": 2
}
