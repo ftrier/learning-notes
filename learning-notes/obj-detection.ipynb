{
 "cells": [
  {
   "cell_type": "markdown",
   "metadata": {},
   "source": [
    "# Object Detection\n",
    "\n",
    "**IoU** (Intersection over Union) is calculated as the area of overlap between two bounding boxes divided by the area of their union. \n",
    "\n",
    "$$ IoU = \\frac{b_1 \\cap b_2}{b_1 \\cup b_2}, 0 \\le IoU \\le 1$$\n",
    "\n",
    "While this is a good metric to evaluate object detection algorithms, it cannot be used as a loss function, because it is not differentiable when the boxes do not overlap.\n",
    "\n",
    "To overcome this, the **GIoU** (Generalized-IoU) has been introduced\n",
    "\n",
    "$$ GIoU = IoU - \\frac{C - b_1 \\cup b_2}{C} $$\n",
    "\n",
    "It uses additionally the area of the smallest enclosing box ($C$) that contains both boxes, thus considering the relative positions of the boxes and solving the problem that non-overlapping bounding boxes have an $IoU=0$\n",
    "If one box is completely inside the other, GIoU will degrade to IoU and experiments have shown that convergence can become difficult.\n",
    "\n",
    "Next, **DIoU** (Distance-IOU)\n",
    "\n",
    "$$ DIoU = IoU - \\frac{\\rho^2}{c^2} $$\n",
    "\n",
    "**DIoU** considers the distance of the two bounding boxes ($\\rho$) with respect to the enclosing box diagonal length ($c$) helping in convergence.\n",
    "\n",
    "Finally, this has been extended to include the aspect ratio of the different bounding boxes, resulting in **CIoU** (Complete-IoU).\n",
    "\n",
    "$$ CIoU = IoU - \\frac{\\rho^2}{c^2}-\\alpha v $$\n",
    "\n",
    "$\\alpha v$ encapsulate the different aspect ratio of the bounding boxes."
   ]
  },
  {
   "cell_type": "code",
   "execution_count": null,
   "metadata": {},
   "outputs": [],
   "source": [
    "import matplotlib.pyplot as plt\n",
    "import matplotlib.patches as patches\n",
    "import jax.numpy as jnp\n",
    "from jax import grad\n",
    "\n",
    "def plot(box, color, ax):\n",
    "    ax.set_xlim(0, 10)\n",
    "    ax.set_ylim(0, 10)\n",
    "    ax.add_patch(patches.Rectangle((box[0], box[1]), box[2], box[3], linewidth=1, edgecolor=color, facecolor='none'))\n",
    "\n",
    "def backprop(b1, b2, loss_fn, lr):\n",
    "    losses = []\n",
    "    while loss_fn(b1, b2) > 0.01:\n",
    "        loss = loss_fn(b1, b2)\n",
    "        losses.append(loss)\n",
    "        b1 = b1 - lr * grad(loss_fn)(b1, b2)\n",
    "        if len(losses) > 2 and losses[-1] == losses[-2]:\n",
    "            print('Not learning, we quit early.')\n",
    "            break\n",
    "    return b1, losses\n",
    "\n",
    "def run(b1, b2, metric_fn, lr=0.1):\n",
    "    fig, ax = plt.subplots(1,3, figsize=(15, 5))\n",
    "    ax[0].set_title('Before Learning')\n",
    "    plot(b1, 'r', ax[0])\n",
    "    plot(b2, 'b', ax[0])\n",
    "    b1, losses = backprop(b1, b2, lambda b1, b2: 1-metric_fn(b1, b2), lr=lr)\n",
    "    ax[1].set_title('After Learning')\n",
    "    plot(b1, 'r', ax[1])\n",
    "    plot(b2, 'b', ax[1])\n",
    "    ax[2].set_title('Losses over Time')\n",
    "    ax[2].set_xlabel('Steps')\n",
    "    ax[2].plot(losses)"
   ]
  },
  {
   "cell_type": "markdown",
   "metadata": {},
   "source": [
    "## Intersection over Union"
   ]
  },
  {
   "cell_type": "code",
   "execution_count": null,
   "metadata": {},
   "outputs": [],
   "source": [
    "def intersection(b1, b2):\n",
    "    x1, y1, w1, h1 = b1\n",
    "    x2, y2, w2, h2 = b2\n",
    "    xA = max(x1, x2)\n",
    "    yA = max(y1, y2)\n",
    "    xB = min(x1 + w1, x2 + w2)\n",
    "    yB = min(y1 + h1, y2 + h2)\n",
    "    interArea = max(0, xB - xA) * max(0, yB - yA)\n",
    "    return interArea\n",
    "\n",
    "def union(b1, b2):\n",
    "    x1, y1, w1, h1 = b1\n",
    "    x2, y2, w2, h2 = b2\n",
    "    return w1 * h1 + w2 * h2 - intersection(b1, b2)\n",
    "\n",
    "def iou(b1, b2):\n",
    "    x1, y1, w1, h1 = b1\n",
    "    x2, y2, w2, h2 = b2\n",
    "    return intersection(b1, b2) / union(b1, b2)\n",
    "\n",
    "b1 = jnp.array([1, 2, 5, 5], dtype=jnp.float32)\n",
    "b_target = jnp.array([2, 1, 5, 2], dtype=jnp.float32)\n",
    "run(b1, b_target, iou)"
   ]
  },
  {
   "cell_type": "code",
   "execution_count": null,
   "metadata": {},
   "outputs": [],
   "source": [
    "b2 = jnp.array([4, 6, 1, 1], dtype=jnp.float32)\n",
    "run(b2, b_target, iou)"
   ]
  },
  {
   "cell_type": "markdown",
   "metadata": {},
   "source": [
    "## Generalized Intersection over Union"
   ]
  },
  {
   "cell_type": "code",
   "execution_count": null,
   "metadata": {},
   "outputs": [],
   "source": [
    "def enclosement(b1, b2):\n",
    "    x1, y1, w1, h1 = b1\n",
    "    x2, y2, w2, h2 = b2\n",
    "    xA = min(x1, x2)\n",
    "    yA = min(y1, y2)\n",
    "    xB = max(x1 + w1, x2 + w2)\n",
    "    yB = max(y1 + h1, y2 + h2)\n",
    "    return (xB - xA) * (yB - yA)\n",
    "\n",
    "def giou(b1, b2):\n",
    "  R = (enclosement(b1, b2) - union(b1, b2)) / enclosement(b1, b2)\n",
    "  return iou(b1, b2) - R\n",
    "\n",
    "run(b1, b_target, giou)"
   ]
  },
  {
   "cell_type": "code",
   "execution_count": null,
   "metadata": {},
   "outputs": [],
   "source": [
    "run(b2, b_target, giou)"
   ]
  },
  {
   "cell_type": "markdown",
   "metadata": {},
   "source": [
    "## Distance Intersection over Union"
   ]
  },
  {
   "cell_type": "code",
   "execution_count": null,
   "metadata": {},
   "outputs": [],
   "source": [
    "def distance(b1, b2):\n",
    "    x1, y1, w1, h1 = b1\n",
    "    x2, y2, w2, h2 = b2\n",
    "    return jnp.sqrt(jnp.square(x1 - x2) + jnp.square(y1 - y2))\n",
    "\n",
    "def enclosing_box_diagonal(b1, b2):\n",
    "    x1, y1, w1, h1 = b1\n",
    "    x2, y2, w2, h2 = b2\n",
    "    xA = min(x1, x2)\n",
    "    yA = min(y1, y2)\n",
    "    xB = max(x1 + w1, x2 + w2)\n",
    "    yB = max(y1 + h1, y2 + h2)\n",
    "    return jnp.sqrt(jnp.square(xB - xA) + jnp.square(yB - yA))\n",
    "\n",
    "def diou(b1, b2):\n",
    "    R = jnp.square(distance(b1, b2)) / jnp.square(enclosing_box_diagonal(b1, b2))\n",
    "    return iou(b1, b2) - R\n",
    "\n",
    "run(b1, b_target, diou)"
   ]
  },
  {
   "cell_type": "code",
   "execution_count": null,
   "metadata": {},
   "outputs": [],
   "source": [
    "run(b2, b_target, diou)"
   ]
  },
  {
   "cell_type": "markdown",
   "metadata": {},
   "source": [
    "## Complete Intersection over Union"
   ]
  },
  {
   "cell_type": "code",
   "execution_count": null,
   "metadata": {},
   "outputs": [],
   "source": [
    "def ciou(b1, b2):\n",
    "    x1, y1, w1, h1 = b1\n",
    "    x2, y2, w2, h2 = b2\n",
    "    v = 4 * jnp.square(jnp.arctan(w1 / h1) - jnp.arctan(w2 / h2)) / jnp.square(jnp.pi)\n",
    "    alpha = v / (1 - iou(b1, b2) + v)\n",
    "    R = v * alpha\n",
    "    return diou(b1, b2) - R\n",
    "\n",
    "run(b1, b_target, ciou)"
   ]
  },
  {
   "cell_type": "code",
   "execution_count": null,
   "metadata": {},
   "outputs": [],
   "source": [
    "run(b2, b_target, ciou)"
   ]
  },
  {
   "cell_type": "markdown",
   "metadata": {},
   "source": [
    "## Sources\n",
    "* [Distance-IoU Loss: Faster and Better Learning for Bounding Box Regression](https://arxiv.org/pdf/1911.08287)"
   ]
  }
 ],
 "metadata": {
  "kernelspec": {
   "display_name": "torch",
   "language": "python",
   "name": "python3"
  },
  "language_info": {
   "codemirror_mode": {
    "name": "ipython",
    "version": 3
   },
   "file_extension": ".py",
   "mimetype": "text/x-python",
   "name": "python",
   "nbconvert_exporter": "python",
   "pygments_lexer": "ipython3",
   "version": "3.10.14"
  }
 },
 "nbformat": 4,
 "nbformat_minor": 2
}
