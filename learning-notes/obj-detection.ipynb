{
 "cells": [
  {
   "cell_type": "markdown",
   "metadata": {},
   "source": [
    "# Object Detection\n",
    "\n",
    "IoU is calculated as the area of overlap between the two bounding boxes divided by the area of their union. It's a simple and effective metric, but it has a limitation: it doesn't take into account the relative positions of the boxes when they don't overlap. This means that two pairs of boxes can have the same IoU even if one pair is better aligned than the other. IoU ranges from 0 to 1, where 0 means no overlap and 1 means perfect overlap. However, IoU is not differentiable at 0, which makes it unsuitable for use as a loss function in a learning algorithm.\n",
    "\n",
    "GIoU extends IoU by also considering the area of the smallest enclosing box that contains both boxes. Specifically, it subtracts from the IoU a term that represents the ratio of the area outside the union but inside the enclosing box to the area of the enclosing box. This makes GIoU a more comprehensive metric that can distinguish between different relative positions of the boxes. GIoU is differentiable and can be used as a loss function.\n",
    "\n",
    "\n",
    "$$ IoU = \\frac{b_1 \\cap b_2}{b_1 \\cup b_2} $$\n",
    "\n",
    "$$ GIoU = IoU- \\frac{C - (b_1 \\cup b_2)}{C} $$\n",
    "\n",
    "$$ DIoU = IoU - \\frac{d^2}{c^2} $$\n",
    "\n",
    "$$ CIoU = IoU - \\frac{d^2 + \\rho^2}{c^2} $$\n",
    "\n",
    "* $C$ is the area of the smallest enclosing box that contains both bounding boxes.\n",
    "* $d$ is the Euclidean distance between the central points of the two bounding boxes.\n",
    "* $c$ is the diagonal length of the smallest enclosing box that contains both bounding boxes.\n",
    "* $\\rho$ is the difference in aspect ratio between the two bounding boxes."
   ]
  },
  {
   "cell_type": "code",
   "execution_count": null,
   "metadata": {},
   "outputs": [],
   "source": [
    "import matplotlib.pyplot as plt\n",
    "import numpy as np"
   ]
  },
  {
   "cell_type": "code",
   "execution_count": null,
   "metadata": {},
   "outputs": [],
   "source": [
    "def center_distance(box1, box2):\n",
    "    x1 = (box1[0] + box1[2]) / 2\n",
    "    y1 = (box1[1] + box1[3]) / 2\n",
    "    x2 = (box2[0] + box2[2]) / 2\n",
    "    y2 = (box2[1] + box2[3]) / 2\n",
    "    return np.sqrt((x1 - x2)**2 + (y1 - y2)**2)\n",
    "\n",
    "def center_of_box(box):\n",
    "    x = (box[0] + box[2]) / 2\n",
    "    y = (box[1] + box[3]) / 2\n",
    "    return x, y\n",
    "\n",
    "def intersection_boxes(box1, box2):\n",
    "    x1 = max(box1[0], box2[0])\n",
    "    y1 = max(box1[1], box2[1])\n",
    "    x2 = min(box1[2], box2[2])\n",
    "    y2 = min(box1[3], box2[3])\n",
    "    area = max(0, x2 - x1) * max(0, y2 - y1)\n",
    "    if area == 0:\n",
    "        return (0, 0, 0, 0), 0\n",
    "    return (x1, y1, x2, y2), area\n",
    "\n",
    "def union_boxes(box1, box2):\n",
    "    intersection, intersection_area = intersection_boxes(box1, box2)\n",
    "    box1_area = (box1[2] - box1[0]) * (box1[3] - box1[1])\n",
    "    box2_area = (box2[2] - box2[0]) * (box2[3] - box2[1])\n",
    "    union_area = box1_area + box2_area - intersection_area\n",
    "    return union_area\n",
    "\n",
    "def diagonal_boxes(box1, box2):\n",
    "    start_coordinates = (box1[0], box1[1])\n",
    "    end_coordinates = (box2[2], box2[3])\n",
    "    length = np.sqrt((end_coordinates[0] - start_coordinates[0])**2 + (end_coordinates[1] - start_coordinates[1])**2)\n",
    "    return length, start_coordinates, end_coordinates\n",
    "\n",
    "def enclosing_box(box1, box2):\n",
    "    x1 = min(box1[0], box2[0])\n",
    "    y1 = min(box1[1], box2[1])\n",
    "    x2 = max(box1[2], box2[2])\n",
    "    y2 = max(box1[3], box2[3])\n",
    "    area = (x2 - x1) * (y2 - y1)\n",
    "    return (x1, y1, x2, y2), area\n"
   ]
  },
  {
   "cell_type": "code",
   "execution_count": null,
   "metadata": {},
   "outputs": [],
   "source": [
    "def iou(box1, box2):\n",
    "    _, isec_area = intersection_boxes(box1, box2)\n",
    "    union_area = union_boxes(box1, box2)\n",
    "    return isec_area / union_area\n",
    "\n",
    "def giou(box1, box2):\n",
    "    _iou = iou(box1, box2)\n",
    "    enc, enc_area = enclosing_box(box1, box2)\n",
    "    isec, isec_area = intersection_boxes(box1, box2)\n",
    "    union_area = union_boxes(box1, box2)\n",
    "    return  _iou - (enc_area - union_area) / enc_area\n",
    "\n",
    "def diou(box1, box2):\n",
    "    _iou = iou(box1, box2)\n",
    "    dist = center_distance(box1, box2)\n",
    "    diag_legnth, _, _ = diagonal_boxes(box1, box2)\n",
    "    return _iou - dist**2 / diag_legnth**2"
   ]
  },
  {
   "cell_type": "code",
   "execution_count": null,
   "metadata": {},
   "outputs": [],
   "source": [
    "\n",
    "def plot_boxes(box1, box2):\n",
    "    isec, isec_area = intersection_boxes(box1, box2)\n",
    "    union_area = union_boxes(box1, box2)\n",
    "    enc, enc_area = enclosing_box(box1, box2)\n",
    "    dist = center_distance(box1, box2)\n",
    "    c1 = center_of_box(box1)\n",
    "    c2 = center_of_box(box2)\n",
    "\n",
    "    diag_length, diag_start, diag_end = diagonal_boxes(box1, box2)\n",
    "\n",
    "    print(\"Intersection Area:\", isec_area)\n",
    "    print(\"Union Area:\", union_area)\n",
    "    print(\"Enclosing Area:\", enc_area)\n",
    "    print(\"Center Distance:\", dist)\n",
    "    print(\"Center 1:\", c1)\n",
    "    print(\"Center 2:\", c2)\n",
    "    print(\"Diagonal Length:\", diag_length)\n",
    "\n",
    "    plt.xlim(0, 110)\n",
    "    plt.ylim(0, 110)\n",
    "    plt.plot([box1[0], box1[2], box1[2], box1[0], box1[0]], [box1[1], box1[1], box1[3], box1[3], box1[1]], color='r')\n",
    "    plt.plot([box2[0], box2[2], box2[2], box2[0], box2[0]], [box2[1], box2[1], box2[3], box2[3], box2[1]], color='b')\n",
    "    plt.plot([isec[0], isec[2], isec[2], isec[0], isec[0]], [isec[1], isec[1], isec[3], isec[3], isec[1]], color='g')\n",
    "    plt.plot([enc[0], enc[2], enc[2], enc[0], enc[0]], [enc[1], enc[1], enc[3], enc[3], enc[1]], color='y')\n",
    "    plt.plot([diag_start[0], diag_end[0]], [diag_start[1], diag_end[1]], color='k', linestyle='dotted', linewidth=0.1)\n",
    "\n",
    "    print(\"IoU:\", iou(box1, box2))\n",
    "    print(\"GIoU:\", giou(box1, box2))\n",
    "    print(\"DIoU:\", diou(box1, box2))"
   ]
  },
  {
   "cell_type": "code",
   "execution_count": null,
   "metadata": {},
   "outputs": [],
   "source": [
    "box1 = np.array([10, 10, 50, 50])\n",
    "box2 = np.array([20, 20, 60, 60])\n",
    "plot_boxes(box1, box2)"
   ]
  },
  {
   "cell_type": "code",
   "execution_count": null,
   "metadata": {},
   "outputs": [],
   "source": [
    "box1 = np.array([10, 10, 50, 50])\n",
    "box2 = np.array([60, 60, 100, 100])\n",
    "plot_boxes(box1, box2)\n",
    "# iou is 0 because the boxes do not intersect\n",
    "# giou is negative because the boxes do not intersect\n",
    "# diou is negative because the boxes do not intersect\n"
   ]
  },
  {
   "cell_type": "code",
   "execution_count": null,
   "metadata": {},
   "outputs": [],
   "source": []
  }
 ],
 "metadata": {
  "kernelspec": {
   "display_name": "torch",
   "language": "python",
   "name": "python3"
  },
  "language_info": {
   "codemirror_mode": {
    "name": "ipython",
    "version": 3
   },
   "file_extension": ".py",
   "mimetype": "text/x-python",
   "name": "python",
   "nbconvert_exporter": "python",
   "pygments_lexer": "ipython3",
   "version": "3.10.14"
  }
 },
 "nbformat": 4,
 "nbformat_minor": 2
}
