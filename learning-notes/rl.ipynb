{
 "cells": [
  {
   "cell_type": "markdown",
   "metadata": {},
   "source": [
    "# Reinforcement Learning\n"
   ]
  },
  {
   "cell_type": "markdown",
   "metadata": {},
   "source": [
    "Reinforcement learning is a subfield of machine learning that focuses on training agents to make sequential decisions in an environment to maximize a reward signal.\n",
    "\n",
    "One of the challenges in reinforcement learning is defining the target value for optimization. Unlike classification tasks where we can use the correct label as a target, in reinforcement learning, a correct label is not readily available.\n",
    "\n",
    "In this notebook, we will be using the gymnasium library, which provides a collection of environments for developing and testing reinforcement learning algorithms. Specifically, we will be working with the CartPole environment, where the goal is to balance a pole on a cart by applying appropriate actions."
   ]
  },
  {
   "cell_type": "code",
   "execution_count": null,
   "metadata": {},
   "outputs": [],
   "source": [
    "import gymnasium as gym\n",
    "import numpy as np\n",
    "import matplotlib.pyplot as plt\n",
    "import imageio"
   ]
  },
  {
   "cell_type": "markdown",
   "metadata": {},
   "source": [
    "First of all, we are going to load the [environment](https://gymnasium.farama.org/environments/classic_control/cart_pole/) and investigate it.\n"
   ]
  },
  {
   "cell_type": "code",
   "execution_count": null,
   "metadata": {},
   "outputs": [],
   "source": [
    "env = gym.make('CartPole-v1', render_mode='rgb_array')\n",
    "num_states = env.observation_space.shape[0]\n",
    "num_actions = env.action_space.n\n",
    "# The four states are: cart position, cart velocity, pole angle, pole angular velocity\n",
    "# The two actions are: push cart to the left, push cart to the right\n",
    "print('observation space:', num_states)\n",
    "print('action space:', num_actions)\n",
    "print('observation limit top', env.observation_space.high)\n",
    "print('observation limit low', env.observation_space.low)"
   ]
  },
  {
   "cell_type": "markdown",
   "metadata": {},
   "source": [
    "## Random Search\n"
   ]
  },
  {
   "cell_type": "markdown",
   "metadata": {},
   "source": [
    "In our scenario, we have two possible actions: pushing the cart to the left or to the right.\n",
    "\n",
    "- 0 signifies pushing the cart to the left\n",
    "- 1 signifies pushing the cart to the right\n",
    "\n",
    "Our strategy is straightforward. We take a random vector and multiply it with the observation state vector. If the result is greater than zero, we push the cart to the right. If it's less than zero, we push it to the left. Each instance where the pole remains upright rewards us with a point, and we continue this process. The weight that results in the longest sequence of successful attempts is stored for future use.\n"
   ]
  },
  {
   "cell_type": "code",
   "execution_count": null,
   "metadata": {},
   "outputs": [],
   "source": [
    "def get_action(w, state):\n",
    "    # return 0 or 1 based on the sign of the dot product between w and state\n",
    "    return int(np.dot(w, state) >= 0)\n",
    "\n",
    "\n",
    "weights = np.random.randn(num_states)\n",
    "state, _ = env.reset()\n",
    "action = get_action(weights, state)\n",
    "\n",
    "print('weights:', weights)\n",
    "print('state:', state)\n",
    "print('action:', action)"
   ]
  },
  {
   "cell_type": "code",
   "execution_count": null,
   "metadata": {},
   "outputs": [],
   "source": [
    "def run(env, w):\n",
    "    state, _ = env.reset()\n",
    "    rewards = 0\n",
    "    for _ in range(1000):\n",
    "        state, reward, done, _, _ = env.step(get_action(w, state))\n",
    "        # every time the pole is upright, we get a reward of 1\n",
    "        rewards += reward\n",
    "        # done is True when the episode is over, either we reached the goal or the pole fell\n",
    "        if done:\n",
    "            break\n",
    "    return rewards\n",
    "\n",
    "\n",
    "def random_search(env, num_episodes):\n",
    "    best_weights = None\n",
    "    maximum_reward = 0\n",
    "    rewards = []\n",
    "    for _ in range(num_episodes):\n",
    "        weights = np.random.randn(num_states)\n",
    "        reward = run(env, weights)\n",
    "        rewards.append(reward)\n",
    "        # keep track of the best weights and the maximum reward\n",
    "        if reward > maximum_reward:\n",
    "            maximum_reward = reward\n",
    "            best_weights = weights\n",
    "    return best_weights, rewards"
   ]
  },
  {
   "cell_type": "code",
   "execution_count": null,
   "metadata": {},
   "outputs": [],
   "source": [
    "def plot_rewards(rewards):\n",
    "    plt.plot(rewards)\n",
    "    plt.xlabel('Episode')\n",
    "    plt.ylabel('Reward')\n",
    "    plt.title('Rewards per Episode')\n",
    "    plt.show()"
   ]
  },
  {
   "cell_type": "code",
   "execution_count": null,
   "metadata": {},
   "outputs": [],
   "source": [
    "# In my experience, the sufficient weights are already gained after 50 episodes\n",
    "best_weights, rewards = random_search(env, 500)\n",
    "plot_rewards(rewards)"
   ]
  },
  {
   "cell_type": "markdown",
   "metadata": {},
   "source": [
    "```python\n",
    "frames = []\n",
    "for _ in range(5):\n",
    "    state, _ = env.reset()\n",
    "    done = False\n",
    "    while not done:\n",
    "        frame = env.render()\n",
    "        frames.append(frame)\n",
    "        state, _, done, _, _ = env.step(get_action(best_weights, state))\n",
    "    imageio.mimsave('images/cartpole_random_search.gif', frames, fps=30)\n",
    "```\n"
   ]
  },
  {
   "cell_type": "markdown",
   "metadata": {},
   "source": [
    "![Cartpole](images/cartpole_random_search.gif)\n"
   ]
  },
  {
   "cell_type": "markdown",
   "metadata": {},
   "source": [
    "## Policy Learning\n",
    "\n",
    "The approach above is very simple and obviously does not scale to more complex problems. In a sense, we created a very limited neural network but instead of using gradient descent, we used a random optimization. Nevertheless, we can solve the problem smarter.\n",
    "\n",
    "Policy Gradient methods are a type of Reinforcement Learning algorithms that directly optimize the policy (the strategy that the agent uses to determine the next action based on the current state). The key idea behind these methods is to push up the probabilities of actions that lead to higher rewards and push down the probabilities of actions that lead to lower rewards. Over time, this should lead to a policy that selects good actions more frequently.\n",
    "\n",
    "First of all, we are going to build up our MLP again.\n"
   ]
  },
  {
   "cell_type": "code",
   "execution_count": null,
   "metadata": {},
   "outputs": [],
   "source": [
    "class FCLayer:\n",
    "    def __init__(self, input_size, output_size, activation=None):\n",
    "        self.relu = activation == 'relu'\n",
    "        self.sigmoid = activation == 'sigmoid'\n",
    "        self.tanh = activation == 'tanh'\n",
    "        self.weights = np.random.randn(\n",
    "            input_size, output_size) / np.sqrt(input_size)  # Xavier initialization\n",
    "        self.bias = np.zeros(output_size)\n",
    "        self.weight_update = np.zeros_like(\n",
    "            self.weights)  # Gradients of the weight\n",
    "        self.bias_update = np.zeros_like(self.bias)  # Gradients of the bias\n",
    "        self.grad_counter = 0  # Number of gradients accumulated, used to average the gradients\n",
    "\n",
    "    def forward(self, input):\n",
    "        self.input = input.copy()\n",
    "        self.y = np.dot(self.input, self.weights) + self.bias\n",
    "        if self.relu:\n",
    "            self.y[self.y < 0] = 0\n",
    "        if self.sigmoid:\n",
    "            self.y = 1.0 / (1.0 + np.exp(-self.y))\n",
    "        if self.tanh:\n",
    "            self.y = np.tanh(self.y)\n",
    "        return self.y\n",
    "\n",
    "    def backward(self, grad):\n",
    "        if self.relu:\n",
    "            grad[self.y <= 0] = 0\n",
    "        if self.sigmoid:\n",
    "            grad = grad * self.y * (1 - self.y)\n",
    "        if self.tanh:\n",
    "            grad = grad * (1 - self.y ** 2)\n",
    "        self.weight_update += np.outer(self.input, grad)\n",
    "        self.bias_update += grad\n",
    "        self.grad_counter += 1\n",
    "        return np.dot(grad, self.weights.T)\n",
    "\n",
    "    def update_weights(self, learning_rate):\n",
    "        self.weights -= learning_rate * self.weight_update / self.grad_counter\n",
    "        self.bias -= learning_rate * self.bias_update / self.grad_counter\n",
    "        self.grad_counter = 0  # Reset the gradient counter\n",
    "        self.weight_update = np.zeros_like(self.weights)\n",
    "        self.bias_update = np.zeros_like(self.bias)\n",
    "\n",
    "\n",
    "class Network:\n",
    "    def __init__(self, topology, learning_rate):\n",
    "        self.learning_rate = learning_rate\n",
    "        self.topology = topology\n",
    "\n",
    "    def update_weights(self):\n",
    "        for layer in self.topology:\n",
    "            layer.update_weights(self.learning_rate)\n",
    "\n",
    "    def forward(self, x):\n",
    "        for layer in self.topology:\n",
    "            x = layer.forward(x)\n",
    "        return x\n",
    "\n",
    "    def backward(self, x, y):\n",
    "        for layer in self.topology:\n",
    "            x = layer.forward(x)\n",
    "        for layer in reversed(self.topology):\n",
    "            y = layer.backward(y)"
   ]
  },
  {
   "cell_type": "markdown",
   "metadata": {},
   "source": [
    "In this instance, the network architecture includes a genuine hidden layer. Previously, we only had an input layer and an output layer.\n",
    "\n",
    "The final layer of our network has a single output that utilizes a sigmoid activation function. The sigmoid function is an excellent choice because it primarily outputs values close to 0 or 1.\n"
   ]
  },
  {
   "cell_type": "code",
   "execution_count": null,
   "metadata": {},
   "outputs": [],
   "source": [
    "topology = [\n",
    "    FCLayer(4, 10, activation='relu'),\n",
    "    FCLayer(10, 10),\n",
    "    FCLayer(10, 1, activation='sigmoid')]\n",
    "net = Network(topology=topology, learning_rate=0.5)"
   ]
  },
  {
   "cell_type": "markdown",
   "metadata": {},
   "source": [
    "In reinforcement learning, an agent is an entity that interacts with an environment to learn and make decisions. The agent receives observations from the environment and takes actions based on those observations. The goal of the agent is to maximize a notion of cumulative reward over time.\n",
    "\n",
    "To achieve this, the agent follows a policy, which is a mapping from states to actions. The policy guides the agent's decision-making process by determining which action to take in a given state. The agent learns and improves its policy through a trial-and-error process, where it explores different actions and observes the resulting rewards.\n",
    "\n",
    "Agents in reinforcement learning can be implemented using various algorithms, such as Q-learning, Deep Q-Networks (DQN), or policy gradients. Here, we will be looking at policy gradient learning.\n"
   ]
  },
  {
   "cell_type": "code",
   "execution_count": null,
   "metadata": {},
   "outputs": [],
   "source": [
    "class Agent():\n",
    "    def __init__(self, net):\n",
    "        self.net = net\n",
    "\n",
    "    def act(self, state):\n",
    "        # We interpret the output of the network as the probability of taking action 1 (going to the right)\n",
    "        prob = self.net.forward(state)\n",
    "        action = 1 if np.random.rand() < prob else 0\n",
    "        return action, prob\n",
    "\n",
    "    def _discount_rewards(self, rewards, gamma):\n",
    "        discounted = np.zeros_like(rewards)\n",
    "        reward = 0\n",
    "        # We start from the end of the rewards list\n",
    "        for t in reversed(range(len(rewards))):\n",
    "            # We multiply the reward by gamma and add the reward at time t\n",
    "            # This way, the reward at time t will have a weight of gamma^0, the reward at time t-1 will have a weight of gamma^1, and so on\n",
    "            # Since gamma is less than 1, the rewards that are further in the past will have less weight\n",
    "            reward = reward * gamma + rewards[t]\n",
    "            discounted[t] = reward\n",
    "        # By normalizing the rewards, we can make the training more stable\n",
    "        discounted -= np.mean(discounted)\n",
    "        discounted /= np.std(discounted)\n",
    "        return discounted\n",
    "\n",
    "    def train(self, episodes, gamma=0.99):\n",
    "        total_rewards = []\n",
    "\n",
    "        for _ in range(episodes):\n",
    "            error_gradients = []\n",
    "            episode_states = []\n",
    "            episode_rewards = []\n",
    "            done = False\n",
    "\n",
    "            state, _ = env.reset()\n",
    "            while not done:\n",
    "                action, prob = self.act(state)\n",
    "                # We want to encourage the actions that were taken\n",
    "                # If the action was 1 (going to the right), we want the probability to be higher\n",
    "                # If the action was 0 (going to the left), we want the probability to be lower\n",
    "                # Action 1, Probability 1 -> Error: 0\n",
    "                # Action 0, Probability 0 -> Error: 0\n",
    "                # Action 1, Probability 0 -> Error: -1\n",
    "                # Action 0, Probability 1 -> Error: 1\n",
    "                error_gradients.append(prob-action)\n",
    "                episode_states.append(state)\n",
    "                state, reward, done, _, _ = env.step(action)\n",
    "                episode_rewards.append(reward)\n",
    "\n",
    "            # After every episode, we update the weights\n",
    "            total_rewards.append(sum(episode_rewards))\n",
    "            # We multiply the error gradients with the discounted rewards\n",
    "            # This way, we encourage the actions that lead to a higher reward\n",
    "            error_gradients = np.vstack(\n",
    "                error_gradients) * self._discount_rewards(np.vstack(episode_rewards), gamma)\n",
    "\n",
    "            for state, gradient in zip(episode_states, error_gradients):\n",
    "                self.net.backward(state, gradient)\n",
    "            # We update the weights in a batch\n",
    "            # This helps to stabilize the training, since the weights are updated less frequently\n",
    "            # and a single example does not have a big impact on the weights\n",
    "            self.net.update_weights()\n",
    "\n",
    "        return total_rewards"
   ]
  },
  {
   "cell_type": "code",
   "execution_count": null,
   "metadata": {},
   "outputs": [],
   "source": [
    "agent = Agent(net)\n",
    "rewards = agent.train(1000)\n",
    "plot_rewards(rewards)"
   ]
  },
  {
   "cell_type": "markdown",
   "metadata": {},
   "source": [
    "```python\n",
    "frames = []\n",
    "for _ in range(5):\n",
    "    state, _ = env.reset()\n",
    "    done = False\n",
    "    while not done:\n",
    "        frame = env.render()\n",
    "        frames.append(frame)\n",
    "        action, _ = agent.act(state)\n",
    "        state, _, done, _, _ = env.step(action)\n",
    "    imageio.mimsave('images/cartpole_policy_learning.gif', frames, fps=30)\n",
    "```\n"
   ]
  },
  {
   "cell_type": "markdown",
   "metadata": {},
   "source": [
    "![Cartpole](images/cartpole_policy_learning.gif)\n"
   ]
  },
  {
   "cell_type": "markdown",
   "metadata": {},
   "source": [
    "While there are more sophisticated algorithms for tackling reinforcement learning challenges, such as Deep Q-Networks, they share a common principle with our approach - the notion of future rewards. Deep Q-Networks, for instance, employ a separate neural network to learn the policy. This network is trained to predict the maximum future reward for each possible action in a given state, and the action with the highest predicted reward is selected.\n",
    "\n",
    "This concept of future rewards is fundamental to reinforcement learning. It's based on the idea that actions taken now can have long-term consequences, and the goal is to choose actions that maximize the total reward over time, not just the immediate reward. This is what allows reinforcement learning agents to learn complex strategies that involve delayed gratification and planning ahead.\n"
   ]
  }
 ],
 "metadata": {
  "kernelspec": {
   "display_name": "torch",
   "language": "python",
   "name": "python3"
  },
  "language_info": {
   "codemirror_mode": {
    "name": "ipython",
    "version": 3
   },
   "file_extension": ".py",
   "mimetype": "text/x-python",
   "name": "python",
   "nbconvert_exporter": "python",
   "pygments_lexer": "ipython3",
   "version": "3.11.9"
  }
 },
 "nbformat": 4,
 "nbformat_minor": 2
}
