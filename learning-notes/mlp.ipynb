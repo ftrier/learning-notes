{
 "cells": [
  {
   "cell_type": "markdown",
   "metadata": {},
   "source": [
    "# Multilayer Perceptron\n"
   ]
  },
  {
   "cell_type": "code",
   "execution_count": null,
   "metadata": {},
   "outputs": [],
   "source": [
    "import numpy as np\n",
    "import matplotlib.pyplot as plt"
   ]
  },
  {
   "cell_type": "markdown",
   "metadata": {},
   "source": [
    "Multilayer Perceptron is a type of artificial neural network that consists of multiple layers of interconnected nodes, called neurons. It is a feedforward neural network, meaning that the information flows in one direction, from the input layer to the output layer.\n",
    "\n",
    "MLPs are widely used in various machine learning tasks, such as classification, regression, and pattern recognition. It is known for its ability to learn complex patterns and make accurate predictions.\n",
    "\n",
    "The MLP uses a supervised learning technique called backpropagation for training. In backpropagation, the error is calculated between the predicted and actual output, and this error is propagated back through the network, starting from the output layer to the hidden layer(s), to adjust the weights for the next iteration.\n"
   ]
  },
  {
   "cell_type": "markdown",
   "metadata": {},
   "source": [
    "## Fully Connected Feed-Forward Network\n",
    "\n",
    "The layers of an MLP typically include:\n",
    "\n",
    "1. Input Layer: This is where the model receives its input features. Each node in this layer represents one feature.\n",
    "2. Hidden Layer(s): These are layers between the input and output layers where the actual processing happens via a system of weighted 'connections'. The most important aspect of the MLP is that these layers are \"hidden\", meaning their values are not observable in the training set. Each node in these layers uses a nonlinear activation function, which allows the MLP to capture complex patterns.\n",
    "3. Output Layer: This layer produces the final predictions of the model. The activation function used in this layer depends on the nature of the problem. For example, for a binary classification problem (our problem), a sigmoid function can be used.\n"
   ]
  },
  {
   "cell_type": "markdown",
   "metadata": {},
   "source": [
    "## Mathematics\n",
    "\n",
    "In a neural network, each layer consists of multiple neurons, and each neuron is connected to all neurons from the previous layer. The input to a neuron is a weighted sum of the outputs of the neurons from the previous layer. If we consider all neurons in a layer, this operation can be represented as a matrix multiplication. The matrix contains the weights of the connections between the neurons in the current layer and the previous layer. The input data is multiplied by this weight matrix to give the initial output for each neuron in the current layer.\n",
    "\n",
    "$$ y = f(X \\times W) $$\n",
    "\n",
    "Real-world data is often complex and non-linear. Activation functions introduce non-linearity into the network, allowing it to learn and model these complex patterns. Without an activation function, no matter how many layers the network has, it would still behave like a single-layer model because the composition of linear functions is still a linear function.\n",
    "\n",
    "In our example, three types of activation functions are depicted:\n",
    "\n",
    "1. Identity: This is a linear function where the output is the same as the input. It is used when we want to model a linear relationship. `activation==None`\n",
    "2. ReLU: This function outputs the input directly if it's positive; otherwise, it outputs zero. It's widely used in deep learning models because it helps the model to train faster without sacrificing much accuracy.\n",
    "3. Sigmoid: This function maps the input values into a range between 0 and 1, making it useful for outputting probabilities in binary classification problems.\n",
    "\n",
    "We will look at them later separately!\n"
   ]
  },
  {
   "cell_type": "code",
   "execution_count": null,
   "metadata": {},
   "outputs": [],
   "source": [
    "class FCLayer:\n",
    "    def __init__(self, input_size, output_size, activation=None):\n",
    "        self.relu = activation == 'relu'\n",
    "        self.sigmoid = activation == 'sigmoid'\n",
    "        self.tanh = activation == 'tanh'\n",
    "        self.weights = np.random.randn(\n",
    "            input_size, output_size) / np.sqrt(input_size)  # Xavier initialization\n",
    "        self.bias = np.zeros(output_size)\n",
    "        self.weight_update = np.zeros_like(\n",
    "            self.weights)  # Gradients of the weight\n",
    "        self.bias_update = np.zeros_like(self.bias)  # Gradients of the bias\n",
    "        self.grad_counter = 0  # Number of gradients accumulated, used to average the gradients\n",
    "\n",
    "    def forward(self, input):\n",
    "        self.input = input.copy()\n",
    "        self.y = np.dot(self.input, self.weights) + self.bias\n",
    "        if self.relu:\n",
    "            self.y[self.y < 0] = 0\n",
    "        if self.sigmoid:\n",
    "            self.y = 1.0 / (1.0 + np.exp(-self.y))\n",
    "        if self.tanh:\n",
    "            self.y = np.tanh(self.y)\n",
    "        return self.y\n",
    "\n",
    "    def backward(self, grad):\n",
    "        if self.relu:\n",
    "            grad[self.y <= 0] = 0\n",
    "        if self.sigmoid:\n",
    "            grad = grad * self.y * (1 - self.y)\n",
    "        if self.tanh:\n",
    "            grad = grad * (1 - self.y ** 2)\n",
    "        self.weight_update += np.outer(self.input, grad)\n",
    "        self.bias_update += grad\n",
    "        self.grad_counter += 1\n",
    "        return np.dot(grad, self.weights.T)\n",
    "\n",
    "    def update_weights(self, learning_rate):\n",
    "        self.weights -= learning_rate * self.weight_update / self.grad_counter\n",
    "        self.bias -= learning_rate * self.bias_update / self.grad_counter\n",
    "        self.grad_counter = 0  # Reset the gradient counter\n",
    "        self.weight_update = np.zeros_like(self.weights)\n",
    "        self.bias_update = np.zeros_like(self.bias)\n",
    "\n",
    "\n",
    "class Network:\n",
    "    def __init__(self, topology, learning_rate):\n",
    "        self.learning_rate = learning_rate\n",
    "        self.topology = topology\n",
    "\n",
    "    def update_weights(self):\n",
    "        for layer in self.topology:\n",
    "            layer.update_weights(self.learning_rate)\n",
    "\n",
    "    def forward(self, x):\n",
    "        for layer in self.topology:\n",
    "            x = layer.forward(x)\n",
    "        return x\n",
    "\n",
    "    def backward(self, x, y):\n",
    "        for layer in self.topology:\n",
    "            x = layer.forward(x)\n",
    "        for layer in reversed(self.topology):\n",
    "            y = layer.backward(y)\n",
    "\n",
    "\n",
    "network = Network(\n",
    "    topology=[\n",
    "        FCLayer(2, 5, activation='relu'),  # Input Layer\n",
    "        FCLayer(5, 2, activation='sigmoid')  # Output Layer\n",
    "    ],\n",
    "    learning_rate=1)"
   ]
  },
  {
   "cell_type": "markdown",
   "metadata": {},
   "source": [
    "## Binary Classification\n",
    "\n",
    "We generate randomly a synthetic dataset suitable for a binary classification problem.\n",
    "It consists of 100 2D samples. The optimal decision boundary is given by the equation:\n",
    "\n",
    "$$ y = x - 0.3 $$\n"
   ]
  },
  {
   "cell_type": "code",
   "execution_count": null,
   "metadata": {},
   "outputs": [],
   "source": [
    "def random_data():\n",
    "    data = np.random.random_sample((100, 2))\n",
    "    labels = (data[:, 0]-data[:, 1] < 0.3)\n",
    "\n",
    "    d0 = data[labels == False]\n",
    "    d1 = data[labels]\n",
    "\n",
    "    targets = np.array([labels, 1-labels]).T\n",
    "    return data, targets, labels, d0, d1\n",
    "\n",
    "\n",
    "data, targets, labels, d0, d1 = random_data()\n",
    "plt.plot(d0[:, 0], d0[:, 1], \"bo\")\n",
    "plt.plot(d1[:, 0], d1[:, 1], \"ro\")\n",
    "\n",
    "# Plot the decision boundary of a classifier: y = x - 0.3\n",
    "x = np.linspace(0.3, 1, 2)\n",
    "y = x - 0.3\n",
    "plt.plot(x, y)"
   ]
  },
  {
   "cell_type": "code",
   "execution_count": null,
   "metadata": {},
   "outputs": [],
   "source": [
    "# Before training, the decision boundary is fuzzy and random\n",
    "# You don't need to understand this function\n",
    "def decision_boundary(f, d0, d1, diag=None):\n",
    "    diag = diag or plt\n",
    "    xx, yy = np.meshgrid(np.arange(0, 1, 0.01), np.arange(0, 1, 0.01))\n",
    "    grid_data = np.c_[xx.ravel(), yy.ravel()]\n",
    "    zz = np.array([f(p) for p in grid_data]).reshape(xx.shape)\n",
    "    diag.contourf(xx, yy, zz, alpha=0.3)\n",
    "    diag.plot(d0[:, 0], d0[:, 1], \"bo\")\n",
    "    diag.plot(d1[:, 0], d1[:, 1], \"ro\")\n",
    "\n",
    "\n",
    "decision_boundary(lambda p: network.forward(p)[0], d0, d1)"
   ]
  },
  {
   "cell_type": "markdown",
   "metadata": {},
   "source": [
    "## Training\n",
    "\n",
    "The optimization of neural networks is called training and the algorithm is called backpropagation:\n",
    "\n",
    "1. Forward Pass: The network makes a prediction based on the current weights. This prediction is compared to the actual output, and the difference is measured using a loss function. The goal is to minimize this loss.\n",
    "\n",
    "2. Backward Pass (Backpropagation): In this step, the algorithm calculates how much each weight contributed to the loss, starting from the output layer and moving back towards the input layer. This is done by applying the chain rule of calculus to compute gradients (partial derivatives) of the loss function with respect to the weights and biases.\n",
    "\n",
    "Once these gradients are known, the weights are updated in a way that reduces the loss. This is typically done using an optimization algorithm like gradient descent.\n",
    "\n",
    "In simple terms, backpropagation is like a student learning from their mistakes. After answering a question (forward pass), the student checks their answer against the correct one. If the answer is wrong, the student reviews their solution to understand where they made a mistake (backward pass) and then corrects it. This process is repeated until the student is able to answer the question correctly.\n",
    "\n",
    "In our example, we optimize the Mean Squared Error\n",
    "\n",
    "$$ MSE = \\frac{1}{2}(y - y_t)^2 $$\n"
   ]
  },
  {
   "cell_type": "code",
   "execution_count": null,
   "metadata": {},
   "outputs": [],
   "source": [
    "losses = []\n",
    "for epoch in range(500):  # Epoch is the number of times we go through the entire dataset\n",
    "    loss = 0\n",
    "    for i in range(len(data)):\n",
    "        out = network.forward(data[i])\n",
    "        # Loss = 1/2(target - output)^2\n",
    "        # We divide by 2 to make the derivative of the loss easier\n",
    "        loss += 0.5 * np.sum((targets[i]-out)**2) / len(data)\n",
    "        # dLoss/dOutput = -(target - output)\n",
    "        network.backward(data[i], -(targets[i]-out))\n",
    "    network.update_weights()\n",
    "    losses.append(loss)\n",
    "\n",
    "correct = np.sum([np.argmax(network.forward(x)) == np.argmax(y)\n",
    "                 for x, y in zip(data, targets)])\n",
    "\n",
    "print(\"Correct predicted: \", 1.0 * correct / len(data))\n",
    "fig, ax = plt.subplots(1, 2, figsize=(10, 5))\n",
    "decision_boundary(lambda p: network.forward(p)[0], d0, d1, ax[0])\n",
    "ax[1].set_title(\"Loss\")\n",
    "ax[1].plot(losses)"
   ]
  },
  {
   "cell_type": "markdown",
   "metadata": {},
   "source": [
    "Toy around with the parameters. See how the network behaves, if you adapt the activation functions.\n",
    "Check what happens when you tweak the number of epochs.\n"
   ]
  },
  {
   "cell_type": "markdown",
   "metadata": {},
   "source": [
    "## Activation Functions\n"
   ]
  },
  {
   "cell_type": "code",
   "execution_count": null,
   "metadata": {},
   "outputs": [],
   "source": [
    "def identity(x):\n",
    "    return x\n",
    "\n",
    "\n",
    "def relu(x):\n",
    "    return np.maximum(0, x)\n",
    "\n",
    "\n",
    "def sigmoid(x):\n",
    "    return 1.0 / (1.0 + np.exp(-x))\n",
    "\n",
    "\n",
    "x = np.linspace(-10, 10, 100)\n",
    "\n",
    "_, axs = plt.subplots(1, 4, figsize=(15, 5))\n",
    "axs[0].plot(x, identity(x))\n",
    "axs[0].set_title('Identity')\n",
    "\n",
    "axs[1].plot(x, relu(x))\n",
    "axs[1].set_title('ReLu')\n",
    "\n",
    "axs[2].plot(x, sigmoid(x))\n",
    "axs[2].set_title('Sigmoid')\n",
    "\n",
    "axs[3].plot(x, np.tanh(x))\n",
    "axs[3].set_title('Tanh')"
   ]
  },
  {
   "cell_type": "markdown",
   "metadata": {},
   "source": [
    "## Circle Data\n",
    "\n",
    "Next, we will look at non-linear data, especially, we will look at the first example of the [Tensorflow Playground](http://playground.tensorflow.org/#activation=tanh&batchSize=10&dataset=circle&regDataset=reg-plane&learningRate=0.03&regularizationRate=0&noise=0&networkShape=4,2&seed=0.19889&showTestData=false&discretize=false&percTrainData=50&x=true&y=true&xTimesY=false&xSquared=false&ySquared=false&cosX=false&sinX=false&cosY=false&sinY=false&collectStats=false&problem=classification&initZero=false&hideText=false) and try to recreate it.\n",
    "\n",
    "Inspecting the parameters yields the following:\n",
    "\n",
    "- 2 input neurons\n",
    "- 4 hidden neurons\n",
    "- 2 output neurons\n",
    "- tanh activation function\n",
    "- learning rate of 0.03\n",
    "- batch size of 10\n",
    "\n",
    "We will simplify the network a little bit and just use one output neuron, we have already seen how to neurons can be used, now let's do the same just with one.\n"
   ]
  },
  {
   "cell_type": "code",
   "execution_count": null,
   "metadata": {},
   "outputs": [],
   "source": [
    "def circular_random_data(radius=0.40):\n",
    "    data = np.random.random_sample((1000, 2))\n",
    "    labels = (np.linalg.norm(data - 0.5, axis=1) < radius)\n",
    "\n",
    "    d0 = data[labels == False]\n",
    "    d1 = data[labels]\n",
    "\n",
    "    # The value range of tanh is -1 to 1\n",
    "    # -1 for negative class, 1 for positive class\n",
    "    targets = 2*labels - 1\n",
    "    return data, targets, labels, d0, d1\n",
    "\n",
    "\n",
    "data, targets, labels, d0, d1 = circular_random_data()\n",
    "plt.plot(d0[:, 0], d0[:, 1], \"bo\")\n",
    "plt.plot(d1[:, 0], d1[:, 1], \"ro\")"
   ]
  },
  {
   "cell_type": "code",
   "execution_count": null,
   "metadata": {},
   "outputs": [],
   "source": [
    "network = Network(\n",
    "    topology=[\n",
    "        FCLayer(2, 4, activation='tanh'),\n",
    "        FCLayer(4, 1, activation='tanh')\n",
    "    ],\n",
    "    learning_rate=0.05)\n",
    "\n",
    "losses = []\n",
    "for epoch in range(500):\n",
    "    loss = 0\n",
    "    for i, (x, y) in enumerate(zip(data, targets)):\n",
    "        out = network.forward(x)\n",
    "        loss += 0.5 * (out-y)**2 / len(data)\n",
    "        network.backward(x, out-y)\n",
    "        if i % 10 == 0:\n",
    "            network.update_weights()\n",
    "    losses.append(loss)\n",
    "\n",
    "correct = np.sum([np.sign(network.forward(x)) ==\n",
    "                 y for x, y in zip(data, targets)])\n",
    "\n",
    "print(\"Correct predicted: \", 1.0 * correct / len(data))\n",
    "fig, ax = plt.subplots(1, 2, figsize=(10, 5))\n",
    "decision_boundary(lambda p: network.forward(p), d0, d1, ax[0])\n",
    "ax[1].set_title(\"Loss\")\n",
    "ax[1].plot(losses)"
   ]
  },
  {
   "cell_type": "markdown",
   "metadata": {},
   "source": [
    "That's it! By just slightly adapting our neural network, we could classify a completely different structure of data.\n",
    "We have seen how we can use two output neurons to classify two classes, but also how we can just use one.\n",
    "And we did not have to change the calculations whatsoever.\n"
   ]
  }
 ],
 "metadata": {
  "kernelspec": {
   "display_name": "torch",
   "language": "python",
   "name": "python3"
  },
  "language_info": {
   "codemirror_mode": {
    "name": "ipython",
    "version": 3
   },
   "file_extension": ".py",
   "mimetype": "text/x-python",
   "name": "python",
   "nbconvert_exporter": "python",
   "pygments_lexer": "ipython3",
   "version": "3.11.9"
  }
 },
 "nbformat": 4,
 "nbformat_minor": 2
}
