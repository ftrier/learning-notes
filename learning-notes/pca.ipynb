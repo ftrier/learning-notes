{
 "cells": [
  {
   "cell_type": "markdown",
   "metadata": {},
   "source": [
    "# Principial Component Analysis\n",
    "\n",
    "Principial Component Analysis (PCA) is a statistical method to convert a set of observations of possibly correlated features into a set of values of linearly uncorrelated features called principal components. The number of principal components is less than or equal to the number of original features. The first principal component accounts for as much of the variability in the data as possible, and each succeeding component accounts for as much of the remaining variability as possible.\n",
    "\n",
    "It is commonly used for dimensionality reduction by projecting each data point onto only the first few principal components to obtain lower-dimensional data while preserving as much of the data's variation as possible. The first principal component can equivalently be defined as a direction that maximizes the variance of the projected data.\n",
    "\n",
    "1. PCA identifies orthogonal axes (principal components) in the original feature space.\n",
    "2. These axes are ordered by the amount of variance they explain.\n",
    "3. By projecting the data onto these axes, we reduce the dimensionality while preserving the most important information.\n",
    "\n",
    "To understand what we are doing and why we are doing it, we need a little excursion in the field of statistics\n"
   ]
  },
  {
   "cell_type": "code",
   "execution_count": null,
   "metadata": {},
   "outputs": [],
   "source": [
    "import numpy as np\n",
    "import matplotlib.pyplot as plt\n",
    "from pprint import pprint\n",
    "from sklearn.datasets import load_iris\n",
    "from sklearn.model_selection import train_test_split\n",
    "from sklearn.linear_model import LogisticRegression"
   ]
  },
  {
   "cell_type": "markdown",
   "metadata": {},
   "source": [
    "## Expected Value, Variance and Covariance\n",
    "\n",
    "Features are the columns in our table, while data points are the rows\n",
    "\n",
    "| L=Sepal Length (cm) | W=Sepal Width (cm) | S=Petal Length (cm) | T=Petal Width (cm) | Species |\n",
    "| ------------------- | ------------------ | ------------------- | ------------------ | ------- |\n",
    "| 5.1                 | 3.5                | 1.4                 | 0.2                | Setosa  |\n",
    "| 4.9                 | 3.0                | 1.4                 | 0.2                | Setosa  |\n",
    "| 4.7                 | 3.2                | 1.3                 | 0.2                | Setosa  |\n",
    "| 4.6                 | 3.1                | 1.5                 | 0.2                | Setosa  |\n",
    "| 5.0                 | 3.6                | 1.4                 | 0.2                | Setosa  |\n",
    "\n",
    "### Expected value\n",
    "\n",
    "$$ E[X] = \\bar x = \\frac{\\sum_i^n x_i}{n} $$\n",
    "\n",
    "Let us calculate the expected values of all features\n",
    "\n",
    "$$ E[L] = \\bar l = \\frac{5.1 + 4.9 + 4.7 + 4.6 + 5.0}{5} = 4.86 $$\n",
    "$$ E[W] = \\bar w = \\frac{3.5 + 3 + 3.2 + 3.1 + 3.6}{5} = 3.28 $$\n",
    "$$ E[S] = \\bar s = \\frac{1.4 + 1.4 + 1.3 + 1.5 + 1.4}{5} = 1.4 $$\n",
    "$$ E[T] = \\bar t = \\frac{5 \\times 0.2}{5} = 0.2 $$\n",
    "\n",
    "### Variance\n",
    "\n",
    "$$ V[X] = E[(X - \\bar x)^2] = E[(X - \\bar x)(X - \\bar x)] = \\frac{\\sum_i^n (x_i - \\bar x)^2}{n-1}$$\n",
    "It measures how far each number in the set is from the mean (average) and thus from every other number in the set. A high variance indicates that the feature is very spread out while a low variance indicates the opposite. We divide by $n-1$ to not underestimate the variance.\n",
    "\n",
    "$$ V[L] = \\frac{(5.1-4.86)^2 + (4.9-4.86)^2 + (4.7-4.86)^2 + (4.6-4.86)^2 + (5-4.86)^2}{4} = 0.043 $$\n",
    "$$ V[W] = \\frac{(3.5-3.28)^2 + (3-3.28)^2 + (3.2-3.28)^2 + (3.1-3.28)^2 + (3.6-3.28)^2}{4} = 0.067 $$\n",
    "$$ V[S] = \\frac{(1.4-1.4)^2 + (1.4-1.4)^2 + (1.3-1.4)^2 + (1.5-1.4)^2 + (1.4-1.4)^2}{4} = 0.005 $$\n",
    "$$ V[T] = \\frac{5 (0.2-0.2)^2}{4} = 0 $$\n",
    "\n",
    "The sepal width is more spread out than the sepal length and looking at the numbers, this becomes obvious.\n",
    "\n",
    "### Covariance\n",
    "\n",
    "$$ Cov[X, Y] = E[(X - \\bar x)(Y - \\bar y)] $$\n",
    "\n",
    "The extension of the variance is the covariance. It is used to measure the linear relationship between two variables (data points). If the covariance is positive, it indicates that the two variables tend to increase or decrease together — that is, they're directly proportional. If one variable tends to increase when the other decreases, the covariance is negative, indicating an inverse relationship. A covariance of zero suggests that the variables are independent of each other.\n",
    "\n",
    "$$ Cov[L, W] = \\frac{(5.1-4.86)(3.5-3.28) + (4.9-4.86)(3-3.28) + (4.7-4.86)(3.2-3.28) + (4.6-4.86)(3.1-3.28) + (5-4.86)(3.6-3.28)}{4} = 0.0365 $$\n",
    "$$ Cov[L, S] = \\frac{(5.1-4.86)(1.4-1.4) + (4.9-4.86)(1.4-1.4) + (4.7-4.86)(1.3-1.4) + (4.6-4.86)(1.5-1.4) + (5-4.86)(1.4-1.4)}{4} = -0.0025 $$\n",
    "$$ Cov[W, S] = \\frac{(3.5-3.28)(1.4-1.4) + (3-3.28)(1.4-1.4) + (3.2-3.28)(1.3-1.4) + (3.1-3.28)(1.5-1.4) + (3.6-3.28)(1.4-1.4)}{4} = -0.0025 $$\n",
    "$$ Cov[L, T] = \\frac{(5.1-4.86)(0.2-0.2) + ...}{4} = 0 = Cov[S, T] = Cov[W, T] $$\n",
    "\n",
    "We have only looked at a subset of the iris flower dataset. So the values here must not necessarily represent the real dataset. But for this subset we can say the following:\n",
    "\n",
    "- The petal width (T) is independent of the other features.\n",
    "- The sepal length (L) and sepal width (W) are proportional to one other.\n",
    "- The other tend to behave inverse to one another.\n"
   ]
  },
  {
   "cell_type": "code",
   "execution_count": null,
   "metadata": {},
   "outputs": [],
   "source": [
    "# Lets validate our results\n",
    "x = np.array([[5.1, 3.5, 1.4, 0.2], [4.9, 3.0, 1.4, 0.2], [\n",
    "             4.7, 3.2, 1.3, 0.2], [4.6, 3.1, 1.5, 0.2], [5.0, 3.6, 1.4, 0.2]])\n",
    "pprint(x)\n",
    "print('mean:', np.mean(x, axis=0))\n",
    "print('variance:', np.var(x, ddof=1, axis=0))"
   ]
  },
  {
   "cell_type": "markdown",
   "metadata": {},
   "source": [
    "### Covariance Matrix\n"
   ]
  },
  {
   "cell_type": "code",
   "execution_count": null,
   "metadata": {},
   "outputs": [],
   "source": [
    "pprint(np.cov(x, rowvar=False))"
   ]
  },
  {
   "cell_type": "markdown",
   "metadata": {},
   "source": [
    "The covariance matrix is a square ($ n\\times n$) matrix that provides a measure of the covariance between each pair of features in a dataset.\n",
    "In this matrix, each element $C_{ij}$ represents the covariance between the feature $x_i$ and $x_j$.\n",
    "The diagonal elements of the covariance matrix (where i = j) are the variances of each feature.\n",
    "\n",
    "> On the diagonal, larger values in the covariance matrix indicate more variance.  \n",
    "> On the non-diagonal, larger absolute values indicate a stronger linear relationship between two features.\n"
   ]
  },
  {
   "cell_type": "code",
   "execution_count": null,
   "metadata": {},
   "outputs": [],
   "source": [
    "def noise(x):\n",
    "    return x + np.random.normal(0, 0.5, 100)\n",
    "\n",
    "\n",
    "def plot(ax, y):\n",
    "    ax.plot(x, y, 'o')\n",
    "    ax.set_xlim(0, 10)\n",
    "    ax.set_ylim(0, 25)\n",
    "\n",
    "\n",
    "x = np.linspace(0, 10, 100)\n",
    "ys = [noise(2*x), noise(-2*x+20), noise(10)]\n",
    "\n",
    "fig, ax = plt.subplots(1, len(ys), figsize=(15, 5))\n",
    "for i, y in enumerate(ys):\n",
    "    plot(ax[i], y)\n",
    "    pprint(np.cov(x, y))\n",
    "    print('\\n')"
   ]
  },
  {
   "cell_type": "markdown",
   "metadata": {},
   "source": [
    "For simplicity, I omitted the decimal places.\n",
    "\n",
    "$$\n",
    "\\begin{bmatrix}\n",
    " 8 & 17 \\\\\n",
    "17 & 34\n",
    "\\end{bmatrix}\n",
    "\\begin{bmatrix}\n",
    "  8 & -17 \\\\\n",
    "-17 &  34\n",
    "\\end{bmatrix}\n",
    "\\begin{bmatrix}\n",
    " 8 & -0.02 \\\\\n",
    "-0.02 &  0.2\n",
    "\\end{bmatrix}\n",
    "$$\n",
    "\n",
    "- We have variances along the x-axis (first element in all diagonals)\n",
    "- In the first two cases, we have variances along the y-axis (second element of the diagonal).\n",
    "- In the first example, x and y have a linear relation: If x increases, so does y.\n",
    "- In the second example, the relationship is inverted (negative values)\n",
    "\n",
    "> On the non-diagonal, larger absolute values indicate a stronger linear relationship between two features.  \n",
    "> Geometrically, this means the non-diagonal values tell the \"direction\" of the data.\n"
   ]
  },
  {
   "cell_type": "markdown",
   "metadata": {},
   "source": [
    "## Eigenvalues and eigenvectors\n",
    "\n",
    "Let $A$ be a $n\\times n$ matrix, then we call the scalar $\\lambda$ the eigenvalue and the non-zero vector $v \\in R^n$ the eigenvector for which $ Av = \\lambda v $.\n",
    "\n",
    "$$\n",
    "\\begin{bmatrix}\n",
    "-6 & 3\\\\\n",
    "4 & 5\n",
    "\\end{bmatrix}\n",
    "\\begin{bmatrix}\n",
    "1 \\\\\n",
    "4\n",
    "\\end{bmatrix}\n",
    "=\n",
    "6\n",
    "\\begin{bmatrix}\n",
    "1 \\\\\n",
    "4\n",
    "\\end{bmatrix}\n",
    "$$\n",
    "\n",
    "Multiplying the Matrix $A$ with the eigenvector just scales the vector! The eigenvalue is just the scaling factor.\n",
    "\n",
    "For the covariance matrix this means:\n",
    "\n",
    "> The eigenvector with the largest eigenvalue is the direction along which the data set has the maximum variance\n"
   ]
  },
  {
   "cell_type": "markdown",
   "metadata": {},
   "source": [
    "## Algorithm\n",
    "\n",
    "Finally, we can piece everything together:\n",
    "\n",
    "1. PCA identifies orthogonal axes (principal components) in the original feature space.\n",
    "2. These axes are ordered by the amount of variance they explain.\n",
    "3. By projecting the data onto these axes, we reduce the dimensionality while preserving the most important information.\n"
   ]
  },
  {
   "cell_type": "code",
   "execution_count": null,
   "metadata": {},
   "outputs": [],
   "source": [
    "def pca(X):\n",
    "    # Normalize the data\n",
    "    X = (X - np.mean(X, axis=0))\n",
    "    # Compute the covariance matrix\n",
    "    cov = np.dot(X.T, X) / X.shape[0]\n",
    "    # Perform singular value decomposition\n",
    "    # U is the matrix of eigenvectors\n",
    "    # S is the diagonal matrix of eigenvalues\n",
    "    # V is the transpose of U\n",
    "    U, S, V = np.linalg.svd(cov)\n",
    "    return U, S, V\n",
    "\n",
    "\n",
    "def project_data(X, U, k):\n",
    "    # k is the number of dimensions to reduce to\n",
    "    # U_reduced is the matrix of the first k eigenvectors\n",
    "    U_reduced = U[:, :k]\n",
    "    # Z is the projection of X onto the reduced dimension\n",
    "    Z = np.dot(X, U_reduced)\n",
    "    return Z\n",
    "\n",
    "\n",
    "def recover_data(Z, U, k):\n",
    "    U_reduced = U[:, :k]\n",
    "    # X_recovered is the projection of Z back onto the original dimension\n",
    "    X_recovered = np.dot(Z, U_reduced.T)\n",
    "    return X_recovered"
   ]
  },
  {
   "cell_type": "code",
   "execution_count": null,
   "metadata": {},
   "outputs": [],
   "source": [
    "iris = load_iris()\n",
    "print(iris.data.shape)\n",
    "\n",
    "fig, axs = plt.subplots(4, 4, figsize=(20, 20))\n",
    "for i in range(4):\n",
    "    for j in range(4):\n",
    "        if i != j:\n",
    "            axs[i, j].scatter(iris.data[:, i], iris.data[:, j], c=iris.target)\n",
    "            axs[i, j].set_xlabel(iris.feature_names[i])\n",
    "            axs[i, j].set_ylabel(iris.feature_names[j])"
   ]
  },
  {
   "cell_type": "code",
   "execution_count": null,
   "metadata": {},
   "outputs": [],
   "source": [
    "U, S, V = pca(iris.data)\n",
    "# Project the four-dimensional data to two dimensions\n",
    "Z = project_data(iris.data, U, 2)\n",
    "print(Z.shape)\n",
    "# We don't need to plot a grid, since we only have two dimensions left\n",
    "plt.scatter(Z[:, 0], Z[:, 1], c=iris.target)"
   ]
  },
  {
   "cell_type": "code",
   "execution_count": null,
   "metadata": {},
   "outputs": [],
   "source": [
    "# First, we are going to see how a logistic regression model performs on the data without dimensionality reduction\n",
    "X_train, X_test, y_train, y_test = train_test_split(\n",
    "    iris.data, iris.target, test_size=0.5)\n",
    "clf = LogisticRegression()\n",
    "clf.fit(X_train, y_train)\n",
    "print(clf.score(X_test, y_test))"
   ]
  },
  {
   "cell_type": "code",
   "execution_count": null,
   "metadata": {},
   "outputs": [],
   "source": [
    "# Next, we are going to see the performance with dimensionality reduction\n",
    "X_train, X_test, y_train, y_test = train_test_split(\n",
    "    Z, iris.target, test_size=0.5)\n",
    "clf = LogisticRegression()\n",
    "clf.fit(X_train, y_train)\n",
    "print(clf.score(X_test, y_test))"
   ]
  },
  {
   "cell_type": "code",
   "execution_count": null,
   "metadata": {},
   "outputs": [],
   "source": [
    "# Let us go to the extreme and project the data to one dimension\n",
    "Z = project_data(iris.data, U, 1)\n",
    "X_train, X_test, y_train, y_test = train_test_split(\n",
    "    Z, iris.target, test_size=0.5)\n",
    "clf = LogisticRegression()\n",
    "clf.fit(X_train, y_train)\n",
    "print(clf.score(X_test, y_test))\n",
    "plt.plot(Z)"
   ]
  },
  {
   "cell_type": "markdown",
   "metadata": {},
   "source": [
    "We've explored how PCA can effectively reduce the dimensionality of the iris flower dataset, preserving its fundamental characteristics. Although the iris flower dataset is a simple example, it demonstrates the significant role PCA can play in tasks like feature extraction or visualization. As with most tasks, it's not necessary to build your own implementation from scratch. There are excellent [libraries](https://scikit-learn.org/stable/modules/generated/sklearn.decomposition.PCA.html) available that can perform PCA for you. However, understanding the underlying mathematics can provide valuable intuition about the process.\n"
   ]
  }
 ],
 "metadata": {
  "kernelspec": {
   "display_name": "learning-notes",
   "language": "python",
   "name": "python3"
  },
  "language_info": {
   "codemirror_mode": {
    "name": "ipython",
    "version": 3
   },
   "file_extension": ".py",
   "mimetype": "text/x-python",
   "name": "python",
   "nbconvert_exporter": "python",
   "pygments_lexer": "ipython3",
   "version": "3.11.9"
  }
 },
 "nbformat": 4,
 "nbformat_minor": 2
}
