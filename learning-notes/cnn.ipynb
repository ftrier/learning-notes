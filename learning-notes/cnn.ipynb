{
 "cells": [
  {
   "cell_type": "markdown",
   "metadata": {},
   "source": [
    "# Convolutional Neural Network"
   ]
  },
  {
   "cell_type": "code",
   "execution_count": null,
   "metadata": {},
   "outputs": [],
   "source": [
    "from sklearn.datasets import fetch_openml\n",
    "from sklearn.model_selection import train_test_split\n",
    "import numpy as np\n",
    "import matplotlib.pyplot as plt\n",
    "from scipy.signal import convolve2d"
   ]
  },
  {
   "cell_type": "markdown",
   "metadata": {},
   "source": [
    "This Jupyter Notebook showcases the implementation of a simple Convolutional Neural Network (CNN) for image classification. The notebook includes the definition of the CNN architecture.\n",
    "\n",
    "We apply the network on the famous [mnist](https://en.wikipedia.org/wiki/MNIST_database) dataset. The dataset contains images depicting handwritten numbers. The numbers range from zero to nine. The goal is to correctly predict the number shown on the image.\n"
   ]
  },
  {
   "cell_type": "code",
   "execution_count": null,
   "metadata": {},
   "outputs": [],
   "source": [
    "mnist = fetch_openml('mnist_784', as_frame=False)\n",
    "X_train, X_test, y_train, y_test = train_test_split(mnist.data, mnist.target, test_size=0.2, random_state=42)\n",
    "X_train = X_train.reshape(-1, 28, 28) / 255\n",
    "X_test = X_test.reshape(-1, 28, 28) / 255\n",
    "\n",
    "plt.imshow(X_train[0], cmap='gray')\n",
    "print('Shape:', X_train[0].shape)\n",
    "print('Label:', y_train[0])"
   ]
  },
  {
   "cell_type": "markdown",
   "metadata": {},
   "source": [
    "## Convolution Refresher\n",
    "\n",
    "In the context of image processing, convolution is commonly used for tasks such as blurring, edge detection, and feature extraction. It involves sliding a small matrix called a kernel, filter or mask over an image and performing a mathematical operation at each position. The result of this operation is a new image that highlights certain features or characteristics of the original image. Let's look at an example."
   ]
  },
  {
   "cell_type": "code",
   "execution_count": null,
   "metadata": {},
   "outputs": [],
   "source": [
    "kernels = []\n",
    "\n",
    "# Sharpening Filter\n",
    "kernel = (-1 * np.ones((3,3)))\n",
    "kernel[1,1] = 9\n",
    "kernels.append(kernel.copy())\n",
    "\n",
    "# Horizontal Edge Detector\n",
    "kernel = np.zeros((3,3))\n",
    "kernel[0, :] = 1\n",
    "kernel[2, :] = -1\n",
    "kernels.append(kernel.copy())\n",
    "\n",
    "# Vertical Edge Detector\n",
    "kernel = np.zeros((3,3))\n",
    "kernel[:, 0] = 1\n",
    "kernel[:, 2] = -1\n",
    "kernels.append(kernel.copy())\n",
    "\n",
    "sample = X_train[1]\n",
    "filtered = [convolve2d(sample, kernel, mode='valid') for kernel in kernels]\n",
    "\n",
    "_, axs = plt.subplots(1, len(filtered) + 1, figsize=(15, 10))\n",
    "axs[0].imshow(sample, cmap='gray')\n",
    "for i, img in enumerate(filtered):\n",
    "    axs[i+1].imshow(img, cmap='gray')\n"
   ]
  },
  {
   "cell_type": "markdown",
   "metadata": {},
   "source": [
    "## Sharpening Filter\n",
    "\n",
    "If you print the sharpening filter, it looks like this.\n",
    "\n",
    "```python\n",
    "[[-1. -1. -1.]\n",
    " [-1.  9. -1.]\n",
    " [-1. -1. -1.]]\n",
    "```\n",
    "\n",
    "The values in this 3x3 filter represent the weights that are applied to the pixels in the image. The central value is positive and larger than the surrounding values, which are negative. This means that the filter emphasizes the value of the central pixel and reduces the values of the surrounding pixels.\n",
    "\n",
    "When this filter is applied to an image, the differences between a pixel and its neighbors are emphasized, resulting in a greater emphasis on edges and fine details. This is the reason why this filter is called a sharpening filter.\n",
    "\n",
    "## Edge Detector\n",
    "\n",
    "When the filter is applied to an image, it emphasizes the horizontal transitions from light to dark (or vice versa). When the filter slides over a horizontal edge in the image, the difference between the light and dark areas is emphasized by the positive and negative values in the filter, resulting in a high output value. In areas of the image without horizontal edges, the output values are close to zero.\n",
    "The second does the same but for a vertical edge.\n",
    "\n",
    "```python\n",
    "[[ 1.  1.  1.]\n",
    " [ 0.  0.  0.]\n",
    " [-1. -1. -1.]]\n",
    "\n",
    "[[ 1.  0. -1.]\n",
    " [ 1.  0. -1.]\n",
    " [ 1.  0. -1.]]\n",
    "```"
   ]
  },
  {
   "cell_type": "markdown",
   "metadata": {},
   "source": [
    "## Architecture\n",
    "\n",
    "First, we start with layers, which you are already familiar with\n",
    "1. The fully connected layer. It connects every neuron in the current layer to every neuron in the subsequent layer.\n",
    "2. The softmax layer. It assigns probabilities to each class (numbers from zero to nine), indicating the likelihood of the input belonging to each class. The class with the highest probability is then predicted as the output class."
   ]
  },
  {
   "cell_type": "code",
   "execution_count": null,
   "metadata": {},
   "outputs": [],
   "source": [
    "\n",
    "class FCLayer:\n",
    "    def __init__(self, input_size, output_size):\n",
    "        self.weights = np.random.randn(input_size, output_size) / np.sqrt(input_size)\n",
    "        self.weights_update = np.zeros(self.weights.shape)\n",
    "\n",
    "    def forward(self, input):\n",
    "        self.input = input.copy()\n",
    "        return np.dot(self.input, self.weights)\n",
    "\n",
    "    def backward(self, grad):\n",
    "        self.weights_update += np.outer(self.input, grad)\n",
    "        return np.dot(grad, self.weights.T)\n",
    "\n",
    "class Softmax:\n",
    "    def forward(self, input):\n",
    "        self.result = np.exp(input)/np.sum(np.exp(input))\n",
    "        return self.result\n",
    "\n",
    "    def backward(self, targets):\n",
    "        return self.result - targets"
   ]
  },
  {
   "cell_type": "markdown",
   "metadata": {},
   "source": [
    "In the next step, we introduce two new layers:\n",
    "1. The convolution layer\n",
    "    This layer creates num_filters different convolution masks/filters. Each filter is slid over the input image, multiplying the filter values with the corresponding pixel values in the image, and summing up the results. This process is repeated for every position of the filter on the image, resulting in a new output feature map.\n",
    "\n",
    "    The main advantage of convolutional layers is their ability to capture local patterns and spatial relationships within the input data. Unlike fully connected layers, which consider all input features equally, convolutional layers exploit the spatial structure of the data by sharing weights across different regions. This property makes convolutional layers particularly effective in tasks such as image classification, object detection, and image segmentation.\n",
    "\n",
    "2. The maximum pooling layer\n",
    "    A pooling window slides over the input feature map. At each position, the maximum value within the window is selected and becomes the output value for that region. The pooling window then moves to the next position, until the entire input is covered.\n",
    "    The main purpose of maximum pooling is to downsample the input, reducing its spatial dimensions. This helps in reducing the computational complexity of subsequent layers and extracting the most salient features. By selecting the maximum value within each pooling window, maximum pooling retains the strongest feature activations, enhancing the robustness of the network to small spatial translations or distortions in the input.\n",
    "\n",
    "In summary, convolutional and maximum pooling layers are essential building blocks of CNNs that enable the network to learn hierarchical representations of input data. By leveraging local patterns and spatial relationships, these layers extract meaningful features and contribute to the overall performance of the network in various computer vision tasks."
   ]
  },
  {
   "cell_type": "code",
   "execution_count": null,
   "metadata": {},
   "outputs": [],
   "source": [
    "class ConvLayer:\n",
    "    def __init__(self, num_filters, filter_size):\n",
    "        self.num_filters = num_filters\n",
    "        self.filter_size = filter_size\n",
    "        self.filters = np.random.randn(num_filters, filter_size, filter_size) / (filter_size * filter_size)\n",
    "        self.filters_update = np.zeros(self.filters.shape)\n",
    "\n",
    "    def forward(self, input):\n",
    "        self.input = input.copy()\n",
    "        height, width = self.input.shape\n",
    "        output_height = height - self.filter_size + 1\n",
    "        output_width = width - self.filter_size + 1\n",
    "        self.output = np.zeros((self.num_filters, output_height, output_width))\n",
    "\n",
    "        for filter_idx in range(self.num_filters):\n",
    "            for i in range(output_height):\n",
    "                for j in range(output_width):\n",
    "                    # The window is a local image region\n",
    "                    window = self.input[i:i+self.filter_size, j:j+self.filter_size]\n",
    "                    self.output[filter_idx, i, j] = np.sum(self.filters[filter_idx] * window)\n",
    "        return self.output\n",
    "\n",
    "    def backward(self, grad):\n",
    "        _, output_height, output_width = grad.shape\n",
    "        input_grad = np.zeros(self.input.shape)\n",
    "        filter_grad = np.zeros(self.filters.shape)\n",
    "\n",
    "        for filter_idx in range(self.num_filters):\n",
    "            for i in range(output_height):\n",
    "                for j in range(output_width):\n",
    "                    window = self.input[i:i+self.filter_size, j:j+self.filter_size]\n",
    "                    input_grad[i:i+self.filter_size, j:j+self.filter_size] += grad[filter_idx, i, j] * self.filters[filter_idx]\n",
    "                    filter_grad[filter_idx] += grad[filter_idx, i, j] * window\n",
    "        self.filters_update += filter_grad\n",
    "        return input_grad\n",
    "\n",
    "class MaxPoolLayer:\n",
    "    def __init__(self, pool_size):\n",
    "        self.pool_size = pool_size\n",
    "\n",
    "    def forward(self, input):\n",
    "        self.input = input.copy()\n",
    "        num_channels, height, width = self.input.shape\n",
    "        output_height = height // self.pool_size\n",
    "        output_width = width // self.pool_size\n",
    "        output = np.zeros((num_channels, output_height, output_width))\n",
    "\n",
    "        for filter_idx in range(num_channels):\n",
    "            for i in range(output_height):\n",
    "                for j in range(output_width):\n",
    "                    # The window is a local image region\n",
    "                    window = self.input[filter_idx, i*self.pool_size:(i+1)*self.pool_size, j*self.pool_size:(j+1)*self.pool_size]\n",
    "                    output[filter_idx, i, j] = np.max(window)\n",
    "        return output\n",
    "\n",
    "    def backward(self, grad):\n",
    "        num_filters, height, width = self.input.shape\n",
    "        output_height = height // self.pool_size\n",
    "        output_width = width // self.pool_size\n",
    "        input_grad = np.zeros(self.input.shape)\n",
    "\n",
    "        for filter_idx in range(num_filters):\n",
    "            for i in range(output_height):\n",
    "                for j in range(output_width):\n",
    "                    window = self.input[filter_idx, i*self.pool_size:(i+1)*self.pool_size, j*self.pool_size:(j+1)*self.pool_size]\n",
    "                    max_val = np.max(window)\n",
    "                    input_grad[filter_idx, i*self.pool_size:(i+1)*self.pool_size, j*self.pool_size:(j+1)*self.pool_size] = (window == max_val) * grad[filter_idx, i, j]\n",
    "        return input_grad\n",
    "\n",
    "\n",
    "class CNN:\n",
    "    def __init__(self):\n",
    "        self.conv_layer = ConvLayer(num_filters=6, filter_size=3)\n",
    "        self.pool_layer = MaxPoolLayer(pool_size=2)\n",
    "        # We get 13, because 28 - 3 + 1 = 26, and 26 / 2 = 13\n",
    "        self.fc_layer = FCLayer(input_size=6*13*13, output_size=10)\n",
    "        self.softmax = Softmax()\n",
    "\n",
    "    def forward(self, x):\n",
    "        x = self.conv_layer.forward(x)\n",
    "        self.pool_output = self.pool_layer.forward(x)\n",
    "        x = self.pool_output.flatten()\n",
    "        x = self.fc_layer.forward(x)\n",
    "        return self.softmax.forward(x)\n",
    "\n",
    "    def backward(self, targets):\n",
    "        grad = self.softmax.backward(targets)\n",
    "        grad = self.fc_layer.backward(grad)\n",
    "        # The fully connected layer had received a flatten input, so we have to reshape it back to the pooled shape\n",
    "        grad = grad.reshape(self.pool_output.shape)\n",
    "        grad = self.pool_layer.backward(grad)\n",
    "        grad = self.conv_layer.backward(grad)\n",
    "        return grad\n",
    "\n",
    "    def update_weights(self, lr, batch_size):\n",
    "        self.fc_layer.weights -= lr * self.fc_layer.weights_update / batch_size\n",
    "        self.conv_layer.filters -= lr * self.conv_layer.filters_update / batch_size\n",
    "        self.conv_layer.filters_update = np.zeros(self.conv_layer.filters.shape)\n",
    "        self.fc_layer.weights_update = np.zeros(self.fc_layer.weights.shape)\n",
    "\n",
    "cnn_model = CNN()"
   ]
  },
  {
   "cell_type": "markdown",
   "metadata": {},
   "source": [
    "## Train and Test\n",
    "\n",
    "To keep the training and testing time small for demonstration purpose, we are only using a few iterations. For a real training, we would consider the whole dataset instead of just a randomly sampled subset. By further training we could significantly increase the accuracy. But this is not point of this notebook."
   ]
  },
  {
   "cell_type": "code",
   "execution_count": null,
   "metadata": {},
   "outputs": [],
   "source": [
    "iterations = 25\n",
    "train_batch_size = 10\n",
    "test_batch_size = 5\n",
    "lr = 0.1\n",
    "accuracies = []\n",
    "\n",
    "for i in range(iterations):\n",
    "    # train\n",
    "    random_samples = np.random.choice(len(X_train), train_batch_size)\n",
    "    for idx in random_samples:\n",
    "        cnn_model.forward(X_train[idx])\n",
    "        cnn_model.backward(np.eye(10)[int(y_train[idx])])\n",
    "    cnn_model.update_weights(lr, train_batch_size)\n",
    "\n",
    "    # test\n",
    "    accuracy = 0\n",
    "    random_samples = np.random.choice(len(X_test), test_batch_size)\n",
    "    for idx in random_samples:\n",
    "        accuracy += np.argmax(cnn_model.forward(X_test[idx])) == int(y_test[idx])\n",
    "    accuracies.append(accuracy / test_batch_size)"
   ]
  },
  {
   "cell_type": "code",
   "execution_count": null,
   "metadata": {},
   "outputs": [],
   "source": [
    "plt.xlabel('Iterations')\n",
    "plt.ylabel('Accuracy')\n",
    "plt.plot(accuracies)"
   ]
  },
  {
   "cell_type": "code",
   "execution_count": null,
   "metadata": {},
   "outputs": [],
   "source": [
    "samples = np.random.choice(len(X_test), 5)\n",
    "_, axs = plt.subplots(1,len(samples))\n",
    "for i, sample in enumerate(samples):\n",
    "    x = X_test[sample]\n",
    "    axs[i].imshow(x, cmap='gray')\n",
    "    axs[i].set_title(np.argmax(cnn_model.forward(x)))"
   ]
  },
  {
   "cell_type": "markdown",
   "metadata": {},
   "source": [
    "## Further Analysis\n",
    "\n",
    "We have seen the accuracy increase. That is good! Now, let us try to see, if we can gain a little bit of insight in what into a CNN.\n",
    "\n",
    "First, we just visualize all the filter (convolution masks), our neural network has learned."
   ]
  },
  {
   "cell_type": "code",
   "execution_count": null,
   "metadata": {},
   "outputs": [],
   "source": [
    "num_filters = cnn_model.conv_layer.num_filters\n",
    "filter = lambda i : cnn_model.conv_layer.filters[i]\n",
    "\n",
    "_, axs = plt.subplots(1, num_filters, figsize=(15, 10))\n",
    "for i in range(num_filters):\n",
    "    axs[i].imshow(filter(i), cmap='gray')\n",
    "plt.show()"
   ]
  },
  {
   "cell_type": "markdown",
   "metadata": {},
   "source": [
    "Depending on the outcome of your training, they might look random. Further training should improve that. Anyway, sometimes you can get already some idea of what features the filters might have learned. If not, we can just try to visualize them on our dataset.\n",
    "\n",
    "Depending on the filter, we might find edge detectors, corner detectors, sharpening filters, etc."
   ]
  },
  {
   "cell_type": "code",
   "execution_count": null,
   "metadata": {},
   "outputs": [],
   "source": [
    "def gain_insight(sample):\n",
    "    img = sample.reshape(28, 28)\n",
    "    convolve = lambda i : convolve2d(img, filter(i), mode='valid')\n",
    "\n",
    "    _, axs = plt.subplots(1, num_filters + 1, figsize=(15, 10))\n",
    "    axs[0].imshow(img, cmap='gray')\n",
    "    for i in range(num_filters):\n",
    "        axs[i+1].imshow(convolve(i), cmap='gray')"
   ]
  },
  {
   "cell_type": "code",
   "execution_count": null,
   "metadata": {},
   "outputs": [],
   "source": [
    "gain_insight(X_train[7])"
   ]
  },
  {
   "cell_type": "code",
   "execution_count": null,
   "metadata": {},
   "outputs": [],
   "source": [
    "gain_insight(X_train[12])"
   ]
  },
  {
   "cell_type": "markdown",
   "metadata": {},
   "source": [
    "Have fun looking for features!"
   ]
  }
 ],
 "metadata": {
  "kernelspec": {
   "display_name": "notes",
   "language": "python",
   "name": "python3"
  },
  "language_info": {
   "codemirror_mode": {
    "name": "ipython",
    "version": 3
   },
   "file_extension": ".py",
   "mimetype": "text/x-python",
   "name": "python",
   "nbconvert_exporter": "python",
   "pygments_lexer": "ipython3",
   "version": "3.10.14"
  }
 },
 "nbformat": 4,
 "nbformat_minor": 2
}
