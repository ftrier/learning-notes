{
 "cells": [
  {
   "cell_type": "markdown",
   "id": "8e939569",
   "metadata": {},
   "source": [
    "## Linux\n",
    "\n",
    "This notebook serves as starting point for learning linux and the bash terminal. I highly recommend, that you run it interactively via the mybinder.org link in the top. This will allow you to execute the commands yourself. \n",
    "\n",
    "Usually developers, system administrators, devop engineers, etc. interact with the the linux operating system via a textual interface, called the shell. The most common type of shell is called `bash`. For now, the differences between these is not so important, but during troubleshooting it might help to know which shell you are using.\n",
    "\n",
    "Linux comes with lots of preinstalled programs which make working with the shell very easy. We will look at some of them and how to use them.\n",
    "\n",
    "This notebook is for learning purpose only. You will never interact with the shell using such a notebook. The `%%bash` in the lines is only for the notebook. You can safely ignore it."
   ]
  },
  {
   "cell_type": "markdown",
   "id": "3b732704",
   "metadata": {},
   "source": [
    "### File System\n",
    "\n",
    "Linux is a directory/file-based operating system.\n",
    "In Linux, everything is treated as a file, including hardware devices, processes, and system configurations. The file system is organized in a hierarchical directory structure, with the root directory `/` at the top. All files and directories are accessed relative to this root directory.\n",
    "\n",
    "The home directory is a personal directory assigned to each user on the system. It serves as the default working directory when a user logs in and is where the user's personal files, configurations, and directories are stored. The `~` is a shorthand for the home directory. It simplifies navigation.\n",
    "\n",
    "Typically, when you open up a terminal, your session will start in the `~` folder. This is not always the case, as for the notebook here for example. The notebook and the shell open up in the folder from where they are launched. Let us look at that first."
   ]
  },
  {
   "cell_type": "code",
   "execution_count": null,
   "id": "0fc58eb3",
   "metadata": {},
   "outputs": [],
   "source": [
    "%%bash\n",
    "pwd     # print the current working directory\n",
    "ls      # list the contents of the root directory (the current working directory)"
   ]
  },
  {
   "cell_type": "markdown",
   "id": "f4987995",
   "metadata": {},
   "source": [
    "Next we want to see how we can navigate the filesystem. Let us start with the root and see what lies beneath it."
   ]
  },
  {
   "cell_type": "code",
   "execution_count": null,
   "id": "355a887d",
   "metadata": {},
   "outputs": [],
   "source": [
    "%%script bash\n",
    "cd /    # change to the root directory\n",
    "pwd     # print the current working directory\n",
    "ls      # list the contents of the root directory (the current working directory)\n"
   ]
  },
  {
   "cell_type": "markdown",
   "id": "74a023cc",
   "metadata": {},
   "source": [
    "While the root directory is the starting point, you will seldomly operate inside it directly. You will however use it for navigation. The Github build pipeline runs this notebook inside an Ubuntu linux, such the output here will reflect a typical ubuntu installation. Ubuntu follows the [Filesystem Hierarchy Standard](https://en.wikipedia.org/wiki/Filesystem_Hierarchy_Standard). It is not necessary to remember them all, but it is good to have an overview of the most important directories.\n",
    "\n",
    "* `/dev`: Contains device files that represent hardware devices, such as sda (hard drives), tty (terminals), and null.\n",
    "etc\n",
    "* `/tmp`: A temporary directory for storing files that are deleted after a reboot or after a certain period.\n",
    "* `/var`: Contains variable data, such as logs (log), mail (mail), and temporary files for running services.\n",
    "* `/home`: Contains the home directories of users. For example, /home/alice is the home directory for the user alice.\n",
    "* `/usr/bin`: Non-essential user binaries.\n",
    "* `/usr/lib`: Libraries for user applications.\n",
    "* `/mnt`: A temporary mount point for attaching external storage devices like USB drives or network shares.\n"
   ]
  },
  {
   "cell_type": "code",
   "execution_count": null,
   "id": "63b456c8",
   "metadata": {},
   "outputs": [],
   "source": [
    "%%bash\n",
    "whoami  # show the current user\n",
    "cd ~    # change to my personal directory\n",
    "pwd     # you can see that your personal directory is located beneath the root directory /"
   ]
  },
  {
   "cell_type": "markdown",
   "id": "e07e0a60",
   "metadata": {},
   "source": [
    "As you can see, our home directory lies beneath `/home/`. This is expected."
   ]
  },
  {
   "cell_type": "markdown",
   "id": "0d56c1c8",
   "metadata": {},
   "source": [
    "### Manipulating files\n",
    "\n"
   ]
  },
  {
   "cell_type": "markdown",
   "id": "828d7695",
   "metadata": {},
   "source": [
    "As said before, everything is file based in linux, so a common task is to manipulate files such as configuration files, reading logs, etc. "
   ]
  },
  {
   "cell_type": "code",
   "execution_count": null,
   "id": "f200e735",
   "metadata": {},
   "outputs": [],
   "source": [
    "%%bash\n",
    "cd ~\n",
    "touch mytext.txt                # create a new file called mytext.txt in the root directory\n",
    "echo -n \"Hello\" > mytext.txt    # write \"Hello\" into the file without a newline\n",
    "echo \" World!\" >> mytext.txt    # append \"World!\" to the file\n",
    "cat mytext.txt                  # display the contents of the file\n"
   ]
  }
 ],
 "metadata": {
  "kernelspec": {
   "display_name": "notes",
   "language": "python",
   "name": "python3"
  },
  "language_info": {
   "codemirror_mode": {
    "name": "ipython",
    "version": 3
   },
   "file_extension": ".py",
   "mimetype": "text/x-python",
   "name": "python",
   "nbconvert_exporter": "python",
   "pygments_lexer": "ipython3",
   "version": "3.10.14"
  }
 },
 "nbformat": 4,
 "nbformat_minor": 5
}
