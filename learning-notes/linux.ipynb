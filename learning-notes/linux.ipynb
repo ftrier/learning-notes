{
 "cells": [
  {
   "cell_type": "markdown",
   "id": "8e939569",
   "metadata": {},
   "source": [
    "# Linux Basics\n",
    "\n",
    "This notebook serves as starting point for learning linux and the bash terminal. I highly recommend, that you run it interactively via the mybinder.org link in the top. This will allow you to execute the commands yourself. \n",
    "\n",
    "Usually developers, system administrators, devop engineers, etc. interact with the the linux operating system via a textual interface, called the shell. The most common type of shell is called `bash`. For now, the differences between these is not so important, but during troubleshooting it might help to know which shell you are using.\n",
    "\n",
    "Linux comes with lots of preinstalled programs which make working with the shell very easy. We will look at some of them and how to use them.\n",
    "\n",
    "This notebook is for learning purpose only. You will never interact with the shell using such a notebook. The `%%bash` as well as the exclamation mark (`!`) in the lines is only for the notebook. The `%%bash` transforms the whole cell into a bash terminal while the `!` runs only a single command via the shell."
   ]
  },
  {
   "cell_type": "markdown",
   "id": "3b732704",
   "metadata": {},
   "source": [
    "## File System\n",
    "\n",
    "Linux is a directory/file-based operating system.\n",
    "In Linux, everything is treated as a file, including hardware devices, processes, and system configurations. The file system is organized in a hierarchical directory structure, with the root directory `/` at the top. All files and directories are accessed relative to this root directory.\n",
    "\n",
    "The home directory is a personal directory assigned to each user on the system. It serves as the default working directory when a user logs in and is where the user's personal files, configurations, and directories are stored. The `~` is a shorthand for the home directory. It simplifies navigation.\n",
    "\n",
    "Typically, when you open up a terminal, your session will start in the `~` folder. This is not always the case, as for the notebook here for example. The notebook and the shell open up in the folder from where they are launched. Let us look at that first."
   ]
  },
  {
   "cell_type": "code",
   "execution_count": null,
   "id": "0fc58eb3",
   "metadata": {},
   "outputs": [],
   "source": [
    "!pwd     # print the current working directory\n",
    "!ls      # list the contents of the current working directory"
   ]
  },
  {
   "cell_type": "markdown",
   "id": "f4987995",
   "metadata": {},
   "source": [
    "Next we want to see how we can navigate the filesystem. Let us start with the root and see what lies beneath it.\n",
    "We can chain commands via the logical AND operator `&&`. Only if the first command succeeds, the second command will be run."
   ]
  },
  {
   "cell_type": "code",
   "execution_count": null,
   "id": "355a887d",
   "metadata": {},
   "outputs": [],
   "source": [
    "!cd / && ls  # change to the root directory and list its contents"
   ]
  },
  {
   "cell_type": "markdown",
   "id": "74a023cc",
   "metadata": {},
   "source": [
    "While the root directory is the starting point, you will seldomly operate inside it directly. You will however use it for navigation. The Github build pipeline runs this notebook inside an Ubuntu linux, such the output here will reflect a typical ubuntu installation. Ubuntu follows the [Filesystem Hierarchy Standard](https://en.wikipedia.org/wiki/Filesystem_Hierarchy_Standard). It is not necessary to remember them all, but it is good to have an overview of the most important directories.\n",
    "\n",
    "* `/dev`: Contains device files that represent hardware devices, such as sda (hard drives), tty (terminals), and null.\n",
    "etc\n",
    "* `/tmp`: A temporary directory for storing files that are deleted after a reboot or after a certain period.\n",
    "* `/var`: Contains variable data, such as logs (log), mail (mail), and temporary files for running services.\n",
    "* `/home`: Contains the home directories of users. For example, /home/alice is the home directory for the user alice.\n",
    "* `/usr/bin`: Non-essential user binaries.\n",
    "* `/usr/lib`: Libraries for user applications.\n",
    "* `/mnt`: A temporary mount point for attaching external storage devices like USB drives or network shares.\n"
   ]
  },
  {
   "cell_type": "code",
   "execution_count": null,
   "id": "63b456c8",
   "metadata": {},
   "outputs": [],
   "source": [
    "!whoami       # shows my username\n",
    "!cd ~ && pwd  # change to my personal directory and show the current working directory"
   ]
  },
  {
   "cell_type": "markdown",
   "id": "e07e0a60",
   "metadata": {},
   "source": [
    "As you can see, our home directory lies beneath `/home/`. This is expected."
   ]
  },
  {
   "cell_type": "markdown",
   "id": "0d56c1c8",
   "metadata": {},
   "source": [
    "## Manipulating files\n",
    "\n",
    "As said before, everything is file based in linux. A common task is to edit configuration files or to read logs etc.\n"
   ]
  },
  {
   "cell_type": "code",
   "execution_count": null,
   "id": "f200e735",
   "metadata": {},
   "outputs": [],
   "source": [
    "!touch mytext.txt             # create a new file called mytext.txt in the root directory\n",
    "!echo \"Hello\" > mytext.txt    # overwrite the file with the word \"Hello\"\n",
    "!echo \"World!\" >> mytext.txt  # append \"World!\" to the file\n",
    "!cat mytext.txt               # display the contents of the file\n"
   ]
  },
  {
   "cell_type": "markdown",
   "id": "fa869d8d",
   "metadata": {},
   "source": [
    "We have seen a lot. `touch` simply creates a a file. We give it the txt suffix to highlight that it is a plain text file. Although the suffix does not mean a lot. It is just an indication. Next, we used the echo command to output text. A plain `echo \"Hello\"` would just print Hello to the standard outoutput `stdout`, which is typically the terminal. The `>` operator redirects the output to a file instead of displaying it to the terminal. The `>>` appends to a file instead of overwriting. If a program prints a lot of debug information for example to stdout, you can use `>`/`>>` operator to aggregate the logs and write them into a file."
   ]
  },
  {
   "cell_type": "markdown",
   "id": "cbac6838",
   "metadata": {},
   "source": [
    "## Man Pages\n",
    "\n",
    "Programs come very often with a manual. The `man xyz` opens the manual. There you can find additional command line parameters and explanations. For the cat command you will also find that there is a --help flag which we can use."
   ]
  },
  {
   "cell_type": "code",
   "execution_count": null,
   "id": "71df8508",
   "metadata": {},
   "outputs": [],
   "source": [
    "!man cat"
   ]
  },
  {
   "cell_type": "markdown",
   "id": "6976d409",
   "metadata": {},
   "source": [
    "If you read the man page, you will see\n",
    "> cat - concatenate files and print on the **standard output**\n",
    "\n",
    "Again, the standard output. This means we can also redirect the output of the file to another file using `>`."
   ]
  },
  {
   "cell_type": "code",
   "execution_count": null,
   "id": "29044001",
   "metadata": {},
   "outputs": [],
   "source": [
    "!cat mytext.txt > mytext2.txt\n",
    "!cat -n mytext2.txt"
   ]
  },
  {
   "cell_type": "markdown",
   "id": "34f3571e",
   "metadata": {},
   "source": [
    "## Pipes\n",
    "\n",
    "In Bash, pipes (`|`) are used to pass the output of one command as the input to another command. This allows you to chain commands together to perform complex operations efficiently.\n",
    "\n",
    "```bash\n",
    "command1 | command2\n",
    "```\n",
    "\n",
    "1. command1 is executed, and its output is sent to the standard output (stdout).\n",
    "2. Instead of displaying the output, the pipe (|) redirects it as input to command2.\n",
    "3. command2 processes the input and produces its own output."
   ]
  },
  {
   "cell_type": "code",
   "execution_count": null,
   "id": "cf3aa047",
   "metadata": {},
   "outputs": [],
   "source": [
    "!ls | grep \"mytext\" # list all files in the current directory and filter for those containing \"mytext\"\n",
    "!ps aux | grep \"python\"  # list all processes and filter for those containing \"python\""
   ]
  },
  {
   "cell_type": "markdown",
   "id": "8435b2e6",
   "metadata": {},
   "source": [
    "## File Permissions\n",
    "\n",
    "In Linux, every file and directory has a set of permissions that control who can read, write, or execute them. These permissions are assigned to three categories of users:\n",
    "\n",
    "1. Owner: The user who owns the file.\n",
    "2. Group: A group of users who share access to the file.\n",
    "3. Others: Everyone else on the system.\n",
    "\n",
    "Each file or directory can have the following permissions:\n",
    "\n",
    "Read (`r`):\n",
    " * For files: Allows viewing the contents of the file.\n",
    " * For directories: Allows listing the contents of the directory.\n",
    "\n",
    "Write (`w`):\n",
    " * For files: Allows modifying or deleting the file.\n",
    " * For directories: Allows creating, renaming, or deleting files within the directory.\n",
    "\n",
    "Execute (`x`):\n",
    " * For files: Allows running the file as a program or script.\n",
    " * For directories: Allows accessing the directory (e.g., using cd)."
   ]
  },
  {
   "cell_type": "code",
   "execution_count": null,
   "id": "19122789",
   "metadata": {},
   "outputs": [],
   "source": [
    "!ls -l"
   ]
  },
  {
   "cell_type": "markdown",
   "id": "234fc8f9",
   "metadata": {},
   "source": [
    "An example output looks like this:\n",
    "```\n",
    "-rwxr-xr--  1 user group 1234 May 12 12:00 file.txt\n",
    "```\n",
    "* The first character (`-`) indicates the type of file (`-` for regular file, `d` for directory).\n",
    "* The next nine characters are the permissions:\n",
    "  * `rwx` (Owner): Read, Write, Execute.\n",
    "  * `r-x` (Group): Read, Execute.\n",
    "  * `r--` (Others): Read only."
   ]
  },
  {
   "cell_type": "markdown",
   "id": "64784aa9",
   "metadata": {},
   "source": [
    "Using `chmod`, we can modify the permissions.\n",
    "Lets change the permissions for `mytext.txt`\n",
    "\n",
    "Add, remove, or set permissions using u (owner), g (group), o (others), or a (all).\n",
    "Use + (add), - (remove), or = (set)."
   ]
  },
  {
   "cell_type": "code",
   "execution_count": null,
   "id": "a922c421",
   "metadata": {},
   "outputs": [],
   "source": [
    "!chmod a=w mytext.txt   # change permissions to allow all users to write\n",
    "!ls -l mytext.txt\n",
    "!chmod a=r mytext.txt   # change permissions to allow all users to read\n",
    "!ls -l mytext.txt\n",
    "!chmod a+x mytext.txt   # change permissions to allow all users to execute\n",
    "!ls -l mytext.txt\n",
    "!chmod a-x mytext.txt   # change permissions to remove execute permissions for all users\n",
    "!ls -l mytext.txt\n",
    "!chmod u+x mytext.txt   # change permissions to allow the user (owner) to execute\n",
    "!ls -l mytext.txt\n",
    "!chmod g+x mytext.txt   # change permissions to allow the group to execute\n",
    "!ls -l mytext.txt\n",
    "!chmod o+x mytext.txt   # change permissions to allow others to execute\n",
    "!ls -l mytext.txt"
   ]
  },
  {
   "cell_type": "markdown",
   "id": "12454533",
   "metadata": {},
   "source": [
    "As you can see, there are multiple ways to set permissions for the files. Setting correct permissions is an important tasks, since you do not want your configuration to be manipulated by everyone. Usually, they are heavily restricted, such that only an administrator can change them.\n",
    "\n",
    "While the symbolic way is one option to change the permission, there is another more effective way, the numeric mode.\n",
    "* 4 = Read (r)\n",
    "* 2 = Write (w)\n",
    "* 1 = Execute (x)\n",
    "\n",
    "Each user/group/all permission is assigned a combiniation of these three numbers. This is usually a lot simpler, sice you can assign the correct permissions in one step:"
   ]
  },
  {
   "cell_type": "code",
   "execution_count": null,
   "id": "b9e3d512",
   "metadata": {},
   "outputs": [],
   "source": [
    "!chmod 777 mytext.txt  # change the permissions of mytext.txt to read, write, and execute\n",
    "!ls -l mytext.txt  # list the details of mytext.txt to see the new permissions\n",
    "!chmod 644 mytext.txt  # change the permissions of mytext.txt back to read and write for the owner, and read for others\n",
    "!ls -l mytext.txt  # list the details of mytext.txt to see the new permissions"
   ]
  },
  {
   "cell_type": "markdown",
   "id": "6d749cf5",
   "metadata": {},
   "source": []
  }
 ],
 "metadata": {
  "kernelspec": {
   "display_name": "notes",
   "language": "python",
   "name": "python3"
  },
  "language_info": {
   "codemirror_mode": {
    "name": "ipython",
    "version": 3
   },
   "file_extension": ".py",
   "mimetype": "text/x-python",
   "name": "python",
   "nbconvert_exporter": "python",
   "pygments_lexer": "ipython3",
   "version": "3.10.14"
  }
 },
 "nbformat": 4,
 "nbformat_minor": 5
}
